{
 "cells": [
  {
   "cell_type": "markdown",
   "metadata": {
    "slideshow": {
     "slide_type": "slide"
    }
   },
   "source": [
    "#### IBM Quantum Challenge Africa 2021より\n",
    "# 量子コンピューターで農地収穫量の最適化！\n",
    "\n",
    "みなさん、「量子コンピューターで農地収穫量の最適化！」へようこそ。本ハンズオンでは、量子計算における問題のモデル化の例として、IBM Quantum Challenge Africa 2021で取り上げられた「農地収量の最適化問題」を解説します。ここで使用しているコードは、[Quantum Challenge Lab1のnotebook](https://github.com/qiskit-community/ibm-quantum-challenge-africa-2021/blob/main/content/lab1/lab1.ipynb)がベースになっています。\n",
    "\n",
    "**前提知識**：Python\n",
    "\n",
    "**事前準備**：[IBM Quantum](https://quantum-computing.ibm.com/)へのサインアップ\n"
   ]
  },
  {
   "cell_type": "markdown",
   "metadata": {
    "slideshow": {
     "slide_type": "slide"
    }
   },
   "source": [
    "## 目次\n",
    "1. [はじめに](#Introduction)\n",
    "1. [Qiskit](#Qiskit)\n",
    "1. [2次計画問題](#QuadraticProblem)\n",
    "1. [農地の収穫量問題](#CropYieldProblem)\n",
    "1. [Quadratic Unconstrained Binary Optimization (QUBO)](#QUBO)\n",
    "1. [古典的な解法](#ClassicalSolution)\n",
    "1. [量子的な解法](#QuantumSolution)\n",
    "    1. [QAOAによる解法](#QAOASolution)\n",
    "    1. [VQEによる解法](#VQESolution)\n",
    "1. [まとめ](#Summary)\n",
    "1. [参考文献](#Reference)"
   ]
  },
  {
   "cell_type": "markdown",
   "metadata": {
    "slideshow": {
     "slide_type": "slide"
    }
   },
   "source": [
    "## はじめに <a id='Introduction'></a>\n",
    "\n",
    "量子コンピューターは、古典コンピューターでは解けない問題を解決する可能性を秘めています。\n",
    "\n",
    "実社会で有用な計算において量子コンピューターが古典コンピューターの計算速度を上回り、その優位性を示す領域を特定することは、量子コンピューターが実用化される時代に向けてとても重要なことです。このような優位性が期待される領域には、機械学習、計算化学、組み合わせ最適化問題などが挙げられます。今回は農地の収穫量を題材に、組み合わせ最適化問題を取り上げます。このハンズオンを通じ、量子コンピューターの優位性と今抱える問題について理解することができるでしょう。"
   ]
  },
  {
   "cell_type": "markdown",
   "metadata": {
    "slideshow": {
     "slide_type": "slide"
    }
   },
   "source": [
    "まずは、ハンズオンを実行する環境を準備しましょう。\n",
    "\n",
    "1. Jupyter notebookのダウンロード<br/>\n",
    "  ハンズオンで使用するJupyter notebookファイルをダウンロードします\n",
    "\n",
    "2. [IBM Quantum](https://quantum-computing.ibm.com/)へのログイン\n",
    "\n",
    "3. ステップ1でダウンロードしたファイルのアップロード\n",
    "\n",
    "  3-1. [Dashbord](https://quantum-computing.ibm.com/)上の[Launch Lab](https://quantum-computing.ibm.com/lab)ボタンをクリックします\n",
    "  \n",
    "  3-2. Upload Filesボタン(上矢印)を押して、ステップ1でダウンロードしたファイルをアップロードします <br/>\n",
    "\n",
    "4. アップロードしたファイル「KQC22_3_crop.ipynb」を開いてください"
   ]
  },
  {
   "cell_type": "markdown",
   "metadata": {
    "slideshow": {
     "slide_type": "slide"
    }
   },
   "source": [
    "### 準備：必要なモジュールとライブラリのインポート\n",
    "次に、必要なモジュールとライブラリをインポートしておきましょう。Jupyter notebookでは、セルにカーソルを置き、Shift+Enterを押すと、セル内のコードが実行されます。"
   ]
  },
  {
   "cell_type": "code",
   "execution_count": null,
   "metadata": {},
   "outputs": [],
   "source": [
    "# 補助ライブラリのインポート\n",
    "import numpy as np\n",
    "\n",
    "# Qiskitのインポート\n",
    "from qiskit import IBMQ, Aer\n",
    "from qiskit.algorithms import QAOA, VQE, NumPyMinimumEigensolver\n",
    "from qiskit.algorithms.optimizers import COBYLA\n",
    "from qiskit.providers.ibmq import least_busy\n",
    "from qiskit.utils import QuantumInstance\n",
    "from qiskit.tools import job_monitor\n",
    "\n",
    "from qiskit_optimization import QuadraticProgram\n",
    "from qiskit_optimization.algorithms import MinimumEigenOptimizer\n",
    "from qiskit_optimization.converters import QuadraticProgramToQubo"
   ]
  },
  {
   "cell_type": "markdown",
   "metadata": {},
   "source": [
    "以上で準備は完了です。"
   ]
  },
  {
   "cell_type": "markdown",
   "metadata": {
    "slideshow": {
     "slide_type": "slide"
    }
   },
   "source": [
    "## 農地の収穫量問題 <a id=\"CropYieldProblem\"></a>\n",
    "農場の作物や経営を最適化して、リスクを減らしながら利益を上げたいというニーズはよくあります。アフリカや全世界が直面している大きな課題の1つは、すべての人に十分な食料をいかに生産するかということです。今回問題とするのは、利益ではなく、収穫した作物のトン数です。農地の広さが決められ、植えられる作物の種類が与えられたとき、どの作物をそれぞれ何ヘクタール植えたら、収穫量を最大にできるかが課題になります。"
   ]
  },
  {
   "cell_type": "markdown",
   "metadata": {
    "slideshow": {
     "slide_type": "slide"
    }
   },
   "source": [
    "農法には「単作」「間作」「プッシュプル農法」の3種類があります。単作とは、一つの作物だけを栽培する方法です。単作では、病気や害虫の影響を受けやすく、収穫量全体に影響を及ぼします。また、異なる作物を近くで栽培すると、両方の収穫量が増えたり、逆に収穫量が減ったりします。間作とは、収穫量を _増やす_ ために2つの異なる作物を選択することです。プッシュプル農法とは、害虫を寄せ付けないプッシュ作物と、害虫を引き寄せるプル作物をペアで栽培することです。これを大規模な農場に組み込むことで、収穫量を増やすことができます。ただ、プッシュプル作物は利用できなかったり食用にならないため、プッシュプル作物を全体の収穫量として使用できません。"
   ]
  },
  {
   "cell_type": "markdown",
   "metadata": {
    "slideshow": {
     "slide_type": "slide"
    }
   },
   "source": [
    "このような農地の収穫量問題は、変数の特定の組み合わせで解が得られるという点で、組合せ最適化問題です。ここで紹介する問題は古典的に解くことができるほど小さいものですが、より大きな問題になると、最適化すべき組み合わせの数が多くなるため、古典的なコンピュータでは扱いにくくなります。"
   ]
  },
  {
   "cell_type": "markdown",
   "metadata": {
    "slideshow": {
     "slide_type": "slide"
    }
   },
   "source": [
    "### 目的：収穫量の最大化\n",
    "あなたは$3~ha$の農場のオーナーです。植えられる作物は、小麦、大豆、トウモロコシ、プッシュプルの4種類です。プッシュプルは、収穫しても売ることはできませんが、他の作物の収穫量を増やすことができます。それぞれの作物は$0~ha$または$1~ha$作付けすることができます。この農場の収穫量(トン)を以下のような2次関数として定義します。この2次関数の変数は、作付けする作物の作付け面積（ヘクタール数）です。解きたい問題は、どの作物の組合せを選べば、最大の収穫量が得られるか(2次関数を最大化できるか)ということです。"
   ]
  },
  {
   "cell_type": "markdown",
   "metadata": {},
   "source": [
    "#### 作物の種類\n",
    "<img src=\"i/qubo_problem_graphical_variables.svg\" width=\"534px\"/> <br>\n",
    "$~$$~$$~$$~$$~$$~$$~$$~$$~$$~$$~$$~$$~$$~$$~$$~$小麦　　　　　　　大豆　　　　　　トウモロコシ　　　　　プッシュプル"
   ]
  },
  {
   "cell_type": "markdown",
   "metadata": {},
   "source": [
    "#### 問題の定式化\n",
    "<img src=\"i/qubo_problem_graphical.svg\" width=\"400px\"/>\n"
   ]
  },
  {
   "cell_type": "markdown",
   "metadata": {
    "slideshow": {
     "slide_type": "-"
    }
   },
   "source": [
    "$$\n",
    "\\begin{align}\n",
    "    \\text{maximize} \\quad & 2(\\operatorname{Wheat}) + \\operatorname{Soybeans} + 4(\\operatorname{Maize}) \\\\\n",
    "    & + 2.4(\\operatorname{Wheat}\\times\\operatorname{Soybeans}) \\\\ & + 4(\\operatorname{Wheat}\\times\\operatorname{Maize})\\\\\n",
    "    &+ 4(\\operatorname{Wheat}\\times\\operatorname{PushPull}) \\\\ & + 2(\\operatorname{Soybeans}\\times\\operatorname{Maize}) \\\\\n",
    "                          & + (\\operatorname{Soybeans}\\times\\operatorname{PushPull}) \\\\ & + 5(\\operatorname{Maize}\\times\\operatorname{PushPull})\n",
    "\\end{align}\n",
    "$$\n",
    "\n",
    "$$\n",
    "\\begin{align}\n",
    "\\text{subject to} \\quad & \\operatorname{Wheat} + \\operatorname{Soybeans} + \\operatorname{Maize} + \\operatorname{PushPull} \\leq{} 3\\\\\n",
    "& 0\\leq{}\\operatorname{Wheat}\\leq{}1\\\\\n",
    "& 0\\leq{}\\operatorname{Soybeans}\\leq{}1\\\\\n",
    "& 0\\leq{}\\operatorname{Maize}\\leq{}1\\\\\n",
    "& 0\\leq{}\\operatorname{PushPull}\\leq{}1\n",
    "\\end{align}\n",
    "$$"
   ]
  },
  {
   "cell_type": "markdown",
   "metadata": {
    "slideshow": {
     "slide_type": "slide"
    }
   },
   "source": [
    "### 定式化からの2次計画問題の作成\n",
    "上記で定義した問題を表す`QuadraticProgram`を作成してみましょう。以下の `cropyield_quadratic_program` 関数を完成させてください。先程の例を参考に、かつ [QuadraticProgram ドキュメンテーション](https://qiskit.org/documentation/optimization/locale/ja_JP/tutorials/01_quadratic_program.html) を参照するとよいでしょう。\n",
    "\n",
    "変数名は何でもよいですが、 `Wheat`、 `Soybeans`、 `Maize`、 および `PushPull` の頭文字`W`,`S`,`M`,`P`を使うとわかりやすいです。"
   ]
  },
  {
   "cell_type": "code",
   "execution_count": null,
   "metadata": {},
   "outputs": [],
   "source": [
    "# 穴埋め問題\n",
    "def cropyield_quadratic_program():\n",
    "    cropyield = QuadraticProgram(name=\"Crop Yield\")\n",
    "    ##############################\n",
    "    # ここにコードを書いてください\n",
    "    # 変数の追加\n",
    "    cropyield.binary_var(name=\"W\") #Wheatの変数\n",
    "    cropyield.binary_var(name=\"S\") #Soybeansの変数\n",
    "    cropyield.binary_var(name=\"M\") #Maizeの変数\n",
    "    cropyield.binary_var(name=\"P\") #Pushpullの変数\n",
    "    \n",
    "    # 目的関数の定義\n",
    "    cropyield.maximize(\n",
    "        linear={\"W\":, \"S\":, \"M\":},\n",
    "        quadratic={(\"W\", \"S\"): , (\"W\", \"M\"): , (\"W\", \"P\"): ,(\"S\", \"M\"): , (\"S\", \"P\"): , (\"M\", \"P\"): },\n",
    "    )\n",
    "    \n",
    "    # 制約の追加\n",
    "    cropyield.linear_constraint(linear={\"W\": , \"S\": ,\"M\": , \"P\": }, sense=\"<=\", rhs=3)\n",
    "    \n",
    "    \n",
    "    ##############################\n",
    "    return cropyield\n",
    "# 問題をLP文字列で出力\n",
    "cropyield = cropyield_quadratic_program()\n",
    "print(cropyield.export_as_lp_string())"
   ]
  },
  {
   "cell_type": "markdown",
   "metadata": {
    "slideshow": {
     "slide_type": "slide"
    }
   },
   "source": [
    "## 2次計画問題のQUBO形式への変換 <a id=\"QUBO\"></a>\n"
   ]
  },
  {
   "cell_type": "markdown",
   "metadata": {
    "slideshow": {
     "slide_type": "-"
    }
   },
   "source": [
    "量子コンピューターで2次計画問題を解くためには、Quadratic Unconstrained Binary Optimization (QUBO) 形式へ変換する手法です。QUBOとは、その名の通り、制約のないバイナリ変数を用いた2次の最適化問題です。2次計画問題をQUBO形式に変換することで、量子コンピューターで計算可能なイジングモデルのハミルトニアンの基底状態を求める問題に帰着することができます。\n",
    "\n",
    "\n",
    "\n",
    "<イジングモデルとは、磁性体を量子的な磁石スピンの集合体として表現したモデルで、各スピンは上向きと下向きの重ね合わせ状態を取り、スピンどうしの相互作用により安定な状態（基底状態）へ移行します。スピンの上向き・下向きを、バイナリ変数の0、1に読み替えることで、QUBO問題をイジングモデルにマップするのです。\n",
    "\n",
    "<img src=\"i/ising_model.svg\" width=\"400px\"/>"
   ]
  },
  {
   "cell_type": "markdown",
   "metadata": {},
   "source": [
    "興味深いことに、この農地収穫量最適化問題は、ハミルトニアンの基底状態を求める問題として解くことができます。ハミルトニアンとは、シミュレーションしたい物理系の全エネルギーを表すエネルギー関数と考えることができます。この物理系は、さらに [**イジングモデル**](https://en.wikipedia.org/wiki/Ising_model) と呼ばれる数学モデルで表現することができます。この数学モデルは、バイナリ変数をスピンアップ(+1)またはスピンダウン(-1)と呼ばれる状態に変換するためのフレームワークを提供します。\n",
    "    \n",
    "最適化アルゴリズムを適用する際には、通常、適性なフォーマットに変換して適用可能な状態にする必要があります。今回適用するVQEやQAOAのような変分量子アルゴリズムは[**二次非制約二次最適化(QUBO)**](https://en.wikipedia.org/wiki/Quadratic_unconstrained_binary_optimization)という形式に問題を変換する必要があり、 Qiskitはこの変換機能を提供します。"
   ]
  },
  {
   "cell_type": "markdown",
   "metadata": {
    "slideshow": {
     "slide_type": "slide"
    }
   },
   "source": [
    "## 演習: 農地収穫量問題のQUBOへの変換\n",
    "私たちの農地収穫量問題をQUBOに変換しましょう。"
   ]
  },
  {
   "cell_type": "code",
   "execution_count": null,
   "metadata": {
    "slideshow": {
     "slide_type": "-"
    }
   },
   "outputs": [],
   "source": [
    "# 農地収穫量問題をQUBO形式に変換します。\n",
    "##############################\n",
    "# ここにコードを書いてください。\n",
    "\n",
    "cropyieldQUBO=QuadraticProgramToQubo().convert(cropyield)\n",
    "\n",
    "#\n",
    "##############################\n",
    "print(cropyieldQUBO.export_as_lp_string())"
   ]
  },
  {
   "cell_type": "markdown",
   "metadata": {
    "slideshow": {
     "slide_type": "slide"
    }
   },
   "source": [
    "## 古典的な解法 <a id=\"ClassicalSolution\"></a>"
   ]
  },
  {
   "cell_type": "markdown",
   "metadata": {},
   "source": [
    "以上で、農地収穫量の最適化問題を量子コンピューターで解ける形に定義することができました。この問題はさほど大きくないので、古典的に厳密解を求めることも可能です。実際に量子コンピューターで解く前に、古典的に解を求めておきましょう。\n",
    "\n",
    "古典的な解は、NumpyとQiskitを使って簡単に得ることができます。QUBO問題を解くことは、基礎となる行列表現の最小固有値を見つけることに他なりません。そして幸いなことに、この行列表現がどのようなものかを知る必要はなく、定義したQUBO問題を、`NumPyMinimumEigensolver`と`MinimumEigenOptimizer`に渡すだけでよいのです。"
   ]
  },
  {
   "cell_type": "markdown",
   "metadata": {
    "slideshow": {
     "slide_type": "slide"
    }
   },
   "source": [
    "古典解を求める関数は以下のように定義できます。まずソルバーとして`NumPyMinimumEigensolver`インスタンスを持つ、`MinimumEigenOptimizer` オプティマイザーを作成します。与えられた2次計画問題を引数として`solve` メソッドを呼ぶと、オプティマイザーは，問題をパラメーター化された表現に変換してソルバーに渡し、ソルバーはパラメーターを最適化することで、行列表現の最小固有値を求め、最終的に元の問題の解を得ることができます。"
   ]
  },
  {
   "cell_type": "code",
   "execution_count": null,
   "metadata": {
    "slideshow": {
     "slide_type": "-"
    }
   },
   "outputs": [],
   "source": [
    "def get_classical_solution_for(quadprog: QuadraticProgram):\n",
    "    # Create solver\n",
    "    solver = NumPyMinimumEigensolver()\n",
    "\n",
    "    # Create optimizer for solver\n",
    "    optimizer = MinimumEigenOptimizer(solver)\n",
    "\n",
    "    # Return result from optimizer\n",
    "    return optimizer.solve(quadprog)"
   ]
  },
  {
   "cell_type": "markdown",
   "metadata": {
    "slideshow": {
     "slide_type": "slide"
    }
   },
   "source": [
    "私たちの農地収量問題を解いてみましょう。"
   ]
  },
  {
   "cell_type": "code",
   "execution_count": null,
   "metadata": {},
   "outputs": [],
   "source": [
    "# Get classical result\n",
    "classical_result = get_classical_solution_for(cropyield)\n",
    "\n",
    "# Format and print result\n",
    "print(\"古典の解法で求める参考値\\n\")\n",
    "print(f\"最大収穫量は {classical_result.fval} トン\")\n",
    "print(f\"作付けすべき作物は: \")\n",
    "\n",
    "_crops = [v.name for v in cropyield.variables]\n",
    "for cropIndex, cropHectares in enumerate(classical_result.x):\n",
    "    print(f\"\\t{_crops[cropIndex]}を{cropHectares}ha\")"
   ]
  },
  {
   "cell_type": "markdown",
   "metadata": {
    "slideshow": {
     "slide_type": "slide"
    }
   },
   "source": [
    "## 量子コンピューターを使って解いてみよう <a id=\"QuantumSolution\"></a>"
   ]
  },
  {
   "cell_type": "markdown",
   "metadata": {},
   "source": [
    "では、量子コンピューターを使用して、農地収穫量問題を解いてみましょう。"
   ]
  },
  {
   "cell_type": "markdown",
   "metadata": {
    "slideshow": {
     "slide_type": "slide"
    }
   },
   "source": [
    "### 量子アルゴリズムによる解法 <a id=\"QAOASolution\"></a>\n",
    "量子ゲート方式による組合せ最適化問題の解を求めるためのアルゴリズムの一つであるQAOAを使って問題を解きます。先ほど定義した関数で、古典的ソルバーを`QAOA`クラスのインスタンスで置き換えるだけです。"
   ]
  },
  {
   "cell_type": "code",
   "execution_count": null,
   "metadata": {
    "slideshow": {
     "slide_type": "slide"
    }
   },
   "outputs": [],
   "source": [
    "def get_QAOA_solution_for(\n",
    "    quadprog: QuadraticProgram, quantumInstance: QuantumInstance, optimizer=None,\n",
    "):\n",
    "    _eval_count = 0\n",
    "\n",
    "    def callback(eval_count, parameters, mean, std):\n",
    "        nonlocal _eval_count\n",
    "        _eval_count = eval_count\n",
    "\n",
    "    # Create solver\n",
    "    solver = QAOA(\n",
    "        optimizer=optimizer, quantum_instance=quantumInstance, callback=callback,\n",
    "    )\n",
    "\n",
    "    # Create optimizer for solver\n",
    "    optimizer = MinimumEigenOptimizer(solver)\n",
    "\n",
    "    # Get result from optimizer\n",
    "    result = optimizer.solve(quadprog)\n",
    "    return result, _eval_count"
   ]
  },
  {
   "cell_type": "markdown",
   "metadata": {
    "slideshow": {
     "slide_type": "slide"
    }
   },
   "source": [
    "#### シミュレーターでの実行\n",
    "量子コンピューターでの実行準備ができました。まずはシミュレーターで実行してみましょう。QiskitのAerコンポーネントの`qasm_simulator`を使用して、`QuantumInstance`を作成し、`get_QAOA_solution_for` 関数に渡します。"
   ]
  },
  {
   "cell_type": "code",
   "execution_count": null,
   "metadata": {},
   "outputs": [],
   "source": [
    "# We will use the Aer provided QASM simulator\n",
    "backend = Aer.get_backend(\"qasm_simulator\")\n",
    "\n",
    "# Create a QuantumInstance\n",
    "simulator_instance = QuantumInstance(backend=backend)\n",
    "\n",
    "# Get QAOA result\n",
    "qaoa_result, qaoa_eval_count= get_QAOA_solution_for(cropyield, simulator_instance)\n",
    "\n",
    "# Format and print result\n",
    "print(\"量子ハイブリッドアルゴリズムであるQAOAを用いた計算結果:\\n\")\n",
    "print(f\"最大収穫量は {qaoa_result.fval} トン\")\n",
    "print(f\"作付けした作物は:\")\n",
    "for cropHectares, cropName in zip(qaoa_result.x, qaoa_result.variable_names):\n",
    "    print(f\"\\t{cropName}を{cropHectares}ha\")"
   ]
  },
  {
   "cell_type": "markdown",
   "metadata": {
    "slideshow": {
     "slide_type": "slide"
    }
   },
   "source": [
    "#### 実量子ハードウェア上での実行\n",
    "次に実量子ハードウェアで実行したいところですが、実は私たちはこの量子回路を実量子ハードウェア上で動作させることができません。先ほど見たように私たちの問題を解くためには、6量子ビットが必要です。今私たちが使用できる量子コンピューターの量子ビット数を確認しましょう。\n",
    "\n",
    "まず、IBM Quantumのアカウントをロードします。次のセルがエラーになる方は、この[クイックガイド](https://quantum-computing.ibm.com/lab/docs/iql/manage/account/ibmq)に従って、アカウントを有効にしてください。"
   ]
  },
  {
   "cell_type": "markdown",
   "metadata": {
    "slideshow": {
     "slide_type": "slide"
    }
   },
   "source": [
    "次に、使用できるハードウェアの名前とビット数を確認します。"
   ]
  },
  {
   "cell_type": "code",
   "execution_count": null,
   "metadata": {},
   "outputs": [],
   "source": [
    "IBMQ.load_account()\n",
    "provider = IBMQ.get_provider(hub='ibm-q-education', group='ibm-3', project='kawasaki-camp')\n",
    "IBMQ.providers() "
   ]
  },
  {
   "cell_type": "code",
   "execution_count": null,
   "metadata": {},
   "outputs": [],
   "source": [
    "for _backend in IBMQ.get_provider(hub='ibm-q-education', group='ibm-3', project='kawasaki-camp').backends():\n",
    "    if not (_backend.configuration().simulator):\n",
    "        print(f\"{_backend.name()} : {_backend.configuration().n_qubits} qubit\")"
   ]
  },
  {
   "cell_type": "code",
   "execution_count": null,
   "metadata": {},
   "outputs": [],
   "source": [
    "# #一番空いているバックエンドを自動的に選択して実行\n",
    "real_backend = least_busy(provider.backends(filters=lambda x: x.configuration().n_qubits >= 6 \n",
    "                             and not x.configuration().simulator))\n",
    "print(\"最も空いているバックエンドは: \", real_backend)"
   ]
  },
  {
   "cell_type": "code",
   "execution_count": null,
   "metadata": {},
   "outputs": [],
   "source": [
    "# 実機での計算結果を求めます。\n",
    "quantum_instance_real = QuantumInstance(real_backend, shots=2048)\n",
    "\n",
    "# オプティマイザーを指定します。\n",
    "optimizer = COBYLA(maxiter=50)\n",
    "\n",
    "## QAOAという量子アルゴリズムをつかって実機上での計算を行います。\n",
    "qaoa_result_real, qaoa_eval_count_real = get_QAOA_solution_for(\n",
    "    cropyield, quantum_instance_real, optimizer=optimizer\n",
    ")\n",
    "# Format and print result\n",
    "print(\"量子アルゴリズムをつかった計算結果:\\n\")\n",
    "print(f\"最大収穫量は {qaoa_result_real.fval} トン\")\n",
    "print(f\"作付けした作物は: \")\n",
    "for cropHectares, cropName in zip(qaoa_result_real.x, qaoa_result_real.variable_names):\n",
    "    print(f\"\\t{cropName}を{cropHectares}ha\")\n",
    "\n",
    "print(f\"\\nThe solution was found within {qaoa_eval_count} evaluations of QAOA.\")"
   ]
  },
  {
   "cell_type": "markdown",
   "metadata": {
    "slideshow": {
     "slide_type": "skip"
    }
   },
   "source": [
    "### (オプション) VQEによる解法 <a id=\"VQESolution\"></a>"
   ]
  },
  {
   "cell_type": "markdown",
   "metadata": {
    "slideshow": {
     "slide_type": "skip"
    }
   },
   "source": [
    "QUBO問題を解くには、`VQE` アルゴリズムを使用することもできます。使用方法は以下の通りです。`VQE` のインスタンスも反復処理を行いますので、作物収量問題の解決策を見つけるために何回の反復処理が必要かを測定することができます。"
   ]
  },
  {
   "cell_type": "code",
   "execution_count": null,
   "metadata": {
    "slideshow": {
     "slide_type": "skip"
    }
   },
   "outputs": [],
   "source": [
    "def get_VQE_solution_for(\n",
    "    quadprog: QuadraticProgram, quantumInstance: QuantumInstance, optimizer=None,\n",
    "):\n",
    "    _eval_count = 0\n",
    "\n",
    "    def callback(eval_count, parameters, mean, std):\n",
    "        nonlocal _eval_count\n",
    "        _eval_count = eval_count\n",
    "\n",
    "    # Create solver and optimizer\n",
    "    solver = VQE(\n",
    "        optimizer=optimizer, quantum_instance=quantumInstance, callback=callback\n",
    "    )\n",
    "\n",
    "    # Create optimizer for solver\n",
    "    optimizer = MinimumEigenOptimizer(solver)\n",
    "\n",
    "    # Get result from optimizer\n",
    "    result = optimizer.solve(quadprog)\n",
    "    return result, _eval_count"
   ]
  },
  {
   "cell_type": "markdown",
   "metadata": {
    "slideshow": {
     "slide_type": "skip"
    }
   },
   "source": [
    "シミュレーターに対して実行してみてください。以前とほぼ同じ答えが返ってくるはずです(乱数のシードを固定していないので多少の変動があります)。"
   ]
  },
  {
   "cell_type": "code",
   "execution_count": null,
   "metadata": {
    "slideshow": {
     "slide_type": "skip"
    }
   },
   "outputs": [],
   "source": [
    "# We will use the Aer provided QASM simulator\n",
    "backend = Aer.get_backend(\"qasm_simulator\")\n",
    "\n",
    "# Create a QuantumInstance\n",
    "simulator_instance = QuantumInstance(backend=backend)\n",
    "\n",
    "# Get VQE result\n",
    "vqe_result, vqe_eval_count = get_VQE_solution_for(cropyield, simulator_instance)\n",
    "\n",
    "# Format and print result\n",
    "print(\"Solution found using the VQE method:\\n\")\n",
    "print(f\"Maximum crop-yield is {vqe_result.fval} tons\")\n",
    "print(f\"Crops used are: \")\n",
    "for cropHectares, cropName in zip(vqe_result.x, vqe_result.variable_names):\n",
    "    print(f\"\\t{cropHectares} ha of {cropName}\")\n",
    "\n",
    "print(f\"\\nThe solution was found within {vqe_eval_count} evaluations of VQE\")"
   ]
  },
  {
   "cell_type": "markdown",
   "metadata": {
    "slideshow": {
     "slide_type": "slide"
    }
   },
   "source": [
    "## まとめ <a id=\"Summary\"></a>\n",
    "\n",
    "いかがでしたか？本日はハンズオンを通して以下を説明しました：\n",
    "\n",
    "- 最適化問題を解くための流れ\n",
    "- 定式化からの2次計画問題作成方法（係数の入力）\n",
    "- 2次計画問題のQUBO形式への変換\n",
    "- 最適化問題を分子の基底エネルギーを求める問題に帰着できる\n",
    "- 量子アルゴリズムを適用した解法\n",
    "\n",
    "量子コンピューターが最適化問題の解法として優越性が期待されているものの、実際の問題を解くためには、量子ビット数を削減できるようなモデルに落とし込むことが重要です。\n",
    "\n",
    "この問題が取り上げられたQuantum Challenge 2021 Africaの問題は[こちら](https://github.com/qiskit-community/ibm-quantum-challenge-africa-2021)から取得可能です。このハンズオンでご紹介した問題のほか、金融や創薬の問題があります。また先日終了した[Quantum Challenge 2021 Fall](https://github.com/qiskit-community/ibm-quantum-challenge-fall-2021)にも興味深い問題がたくさんあります。こちらは日本語訳もありますので、より取り組みやすいと思います。来年もChallengeがあると予想されます。規定数の問題を解くとバッジが取得できますので、みなさまもぜひ挑戦してみてください！\n",
    "\n",
    "また、Qiskitをもっと知りたい方には、Qiskit Documentationの[Tutorial](https://qiskit.org/documentation/tutorials.html)を、量子コンピューターについてもっと勉強したい方には、[Qiskit Textbook](https://qiskit.org/textbook/preface.html)をお勧めします。TutorialはIBM Quantumの[Quantum Lab](https://quantum-computing.ibm.com/lab)からも参照＆実行できます。"
   ]
  },
  {
   "cell_type": "markdown",
   "metadata": {
    "slideshow": {
     "slide_type": "skip"
    }
   },
   "source": [
    "## 参考文献 <a id=\"Reference\"></a>\n",
    "[1] A. A. Nel, ‘Crop rotation in the summer rainfall area of South Africa’, South African Journal of Plant and Soil, vol. 22, no. 4, pp. 274–278, Jan. 2005, doi: 10.1080/02571862.2005.10634721.\n",
    "\n",
    "[2] H. Ritchie and M. Roser, ‘Crop yields’, Our World in Data, 2013, [Online]. Available: https://ourworldindata.org/crop-yields.\n",
    "\n",
    "[3] G. Brion, ‘Controlling Pests with Plants: The power of intercropping’, UVM Food Feed, Jan. 09, 2014. https://learn.uvm.edu/foodsystemsblog/2014/01/09/controlling-pests-with-plants-the-power-of-intercropping/ (accessed Feb. 15, 2021).\n",
    "\n",
    "[4] N. O. Ogot, J. O. Pittchar, C. A. O. Midega, and Z. R. Khan, ‘Attributes of push-pull technology in enhancing food and nutrition security’, African Journal of Agriculture and Food Security, vol. 6, pp. 229–242, Mar. 2018."
   ]
  },
  {
   "cell_type": "code",
   "execution_count": null,
   "metadata": {
    "slideshow": {
     "slide_type": "slide"
    }
   },
   "outputs": [],
   "source": [
    "import qiskit.tools.jupyter\n",
    "\n",
    "#%qiskit_version_table\n",
    "%qiskit_copyright"
   ]
  }
 ],
 "metadata": {
  "celltoolbar": "Slideshow",
  "interpreter": {
   "hash": "3ba4c4fa8600d6aa3ce58f0fd22d5f3c6b5fccba584be0f8b4a6b03533bf7dc8"
  },
  "kernelspec": {
   "display_name": "Python 3 (ipykernel)",
   "language": "python",
   "name": "python3"
  },
  "language_info": {
   "codemirror_mode": {
    "name": "ipython",
    "version": 3
   },
   "file_extension": ".py",
   "mimetype": "text/x-python",
   "name": "python",
   "nbconvert_exporter": "python",
   "pygments_lexer": "ipython3",
   "version": "3.7.11"
  },
  "rise": {
   "scroll": true
  },
  "toc": {
   "base_numbering": 1,
   "nav_menu": {},
   "number_sections": true,
   "sideBar": true,
   "skip_h1_title": false,
   "title_cell": "Table of Contents",
   "title_sidebar": "Contents",
   "toc_cell": false,
   "toc_position": {
    "height": "calc(100% - 180px)",
    "left": "10px",
    "top": "150px",
    "width": "195px"
   },
   "toc_section_display": true,
   "toc_window_display": true
  },
  "varInspector": {
   "cols": {
    "lenName": 16,
    "lenType": 16,
    "lenVar": 40
   },
   "kernels_config": {
    "python": {
     "delete_cmd_postfix": "",
     "delete_cmd_prefix": "del ",
     "library": "var_list.py",
     "varRefreshCmd": "print(var_dic_list())"
    },
    "r": {
     "delete_cmd_postfix": ") ",
     "delete_cmd_prefix": "rm(",
     "library": "var_list.r",
     "varRefreshCmd": "cat(var_dic_list()) "
    }
   },
   "oldHeight": 676.85,
   "position": {
    "height": "698.85px",
    "left": "2014px",
    "right": "20px",
    "top": "158px",
    "width": "477px"
   },
   "types_to_exclude": [
    "module",
    "function",
    "builtin_function_or_method",
    "instance",
    "_Feature"
   ],
   "varInspector_section_display": "block",
   "window_display": false
  },
  "widgets": {
   "application/vnd.jupyter.widget-state+json": {
    "state": {
     "0e3cf700fe4a4d848489887d8cb51e7a": {
      "model_module": "@jupyter-widgets/base",
      "model_module_version": "1.2.0",
      "model_name": "LayoutModel",
      "state": {
       "grid_template_areas": "\n                                       \". . . . right \"\n                                        ",
       "grid_template_columns": "20% 20% 20% 20% 20%",
       "width": "100%"
      }
     },
     "23d5cb4039f44cec818b242c25936918": {
      "model_module": "@jupyter-widgets/base",
      "model_module_version": "1.2.0",
      "model_name": "LayoutModel",
      "state": {
       "grid_area": "right",
       "padding": "0px 0px 0px 0px",
       "width": "70px"
      }
     },
     "37cf8728b6b041079e897ced40406c4b": {
      "model_module": "@jupyter-widgets/controls",
      "model_module_version": "1.5.0",
      "model_name": "GridBoxModel",
      "state": {
       "children": [
        "IPY_MODEL_eea5246b93144bf686f9457d65ee18ad"
       ],
       "layout": "IPY_MODEL_0e3cf700fe4a4d848489887d8cb51e7a"
      }
     },
     "438cfe8001ae49e799f7bf46f9031e27": {
      "model_module": "@jupyter-widgets/base",
      "model_module_version": "1.2.0",
      "model_name": "LayoutModel",
      "state": {}
     },
     "51e279c1759542a19adcacda82be1972": {
      "model_module": "@jupyter-widgets/controls",
      "model_module_version": "1.5.0",
      "model_name": "DescriptionStyleModel",
      "state": {
       "description_width": ""
      }
     },
     "53196a0afb12416abcc6651d07a4564e": {
      "model_module": "@jupyter-widgets/base",
      "model_module_version": "1.2.0",
      "model_name": "LayoutModel",
      "state": {
       "width": "190px"
      }
     },
     "5b58558c50ca42888f50421de08437ac": {
      "model_module": "@jupyter-widgets/controls",
      "model_module_version": "1.5.0",
      "model_name": "HTMLModel",
      "state": {
       "layout": "IPY_MODEL_438cfe8001ae49e799f7bf46f9031e27",
       "style": "IPY_MODEL_9dd930585032474495d021ca7c8d1a5b",
       "value": "<h5>Message</h5>"
      }
     },
     "5c65d63486474e848173c5ec3eda6e70": {
      "model_module": "@jupyter-widgets/controls",
      "model_module_version": "1.5.0",
      "model_name": "HTMLModel",
      "state": {
       "layout": "IPY_MODEL_d22f899da10b407f997d2ad04f6c61e8",
       "style": "IPY_MODEL_6fa54c949d994562bf969d7999d764f6",
       "value": "<h5>Backend</h5>"
      }
     },
     "6fa54c949d994562bf969d7999d764f6": {
      "model_module": "@jupyter-widgets/controls",
      "model_module_version": "1.5.0",
      "model_name": "DescriptionStyleModel",
      "state": {
       "description_width": ""
      }
     },
     "6fb2edaa3aba4bf98bebf3590d888871": {
      "model_module": "@jupyter-widgets/base",
      "model_module_version": "1.2.0",
      "model_name": "LayoutModel",
      "state": {
       "margin": "0px 0px 0px 37px",
       "width": "600px"
      }
     },
     "7487b8b13b7b416ab32588818c7a9fec": {
      "model_module": "@jupyter-widgets/controls",
      "model_module_version": "1.5.0",
      "model_name": "DescriptionStyleModel",
      "state": {
       "description_width": ""
      }
     },
     "77913006574642bfaf74bf268a342b5a": {
      "model_module": "@jupyter-widgets/base",
      "model_module_version": "1.2.0",
      "model_name": "LayoutModel",
      "state": {
       "margin": "0px 0px 10px 0px"
      }
     },
     "7af2bb16e70b4e0390af879f335fbb8c": {
      "model_module": "@jupyter-widgets/controls",
      "model_module_version": "1.5.0",
      "model_name": "HTMLModel",
      "state": {
       "layout": "IPY_MODEL_f2adc0f1950f497c9fbc3412907410db",
       "style": "IPY_MODEL_b760fb32a7944c1b8f9ab4b96fd71823",
       "value": "<h5>Status</h5>"
      }
     },
     "9dd930585032474495d021ca7c8d1a5b": {
      "model_module": "@jupyter-widgets/controls",
      "model_module_version": "1.5.0",
      "model_name": "DescriptionStyleModel",
      "state": {
       "description_width": ""
      }
     },
     "a897582bc61f427ebc953973eb589433": {
      "model_module": "@jupyter-widgets/controls",
      "model_module_version": "1.5.0",
      "model_name": "DescriptionStyleModel",
      "state": {
       "description_width": ""
      }
     },
     "b760fb32a7944c1b8f9ab4b96fd71823": {
      "model_module": "@jupyter-widgets/controls",
      "model_module_version": "1.5.0",
      "model_name": "DescriptionStyleModel",
      "state": {
       "description_width": ""
      }
     },
     "cbf7da19b46c4ddebef7281039e8b696": {
      "model_module": "@jupyter-widgets/controls",
      "model_module_version": "1.5.0",
      "model_name": "ButtonStyleModel",
      "state": {}
     },
     "d186802f578244cc8f8665340a2922da": {
      "model_module": "@jupyter-widgets/controls",
      "model_module_version": "1.5.0",
      "model_name": "HTMLModel",
      "state": {
       "layout": "IPY_MODEL_77913006574642bfaf74bf268a342b5a",
       "style": "IPY_MODEL_a897582bc61f427ebc953973eb589433",
       "value": "<p style='font-family: IBM Plex Sans, Arial, Helvetica, sans-serif; font-size: 20px; font-weight: medium;'>Circuit Properties</p>"
      }
     },
     "d22f899da10b407f997d2ad04f6c61e8": {
      "model_module": "@jupyter-widgets/base",
      "model_module_version": "1.2.0",
      "model_name": "LayoutModel",
      "state": {
       "width": "145px"
      }
     },
     "de345a54b5a6439ebaa8e2c199872d11": {
      "model_module": "@jupyter-widgets/controls",
      "model_module_version": "1.5.0",
      "model_name": "HBoxModel",
      "state": {
       "children": [
        "IPY_MODEL_e516a438b0a14872990d012fb54fdf02",
        "IPY_MODEL_5c65d63486474e848173c5ec3eda6e70",
        "IPY_MODEL_7af2bb16e70b4e0390af879f335fbb8c",
        "IPY_MODEL_e321856e5dff486f8f1f3b236f175476",
        "IPY_MODEL_5b58558c50ca42888f50421de08437ac"
       ],
       "layout": "IPY_MODEL_6fb2edaa3aba4bf98bebf3590d888871"
      }
     },
     "e321856e5dff486f8f1f3b236f175476": {
      "model_module": "@jupyter-widgets/controls",
      "model_module_version": "1.5.0",
      "model_name": "HTMLModel",
      "state": {
       "layout": "IPY_MODEL_fdb9e4f074024588a6625eb9321bb2ea",
       "style": "IPY_MODEL_51e279c1759542a19adcacda82be1972",
       "value": "<h5>Queue</h5>"
      }
     },
     "e516a438b0a14872990d012fb54fdf02": {
      "model_module": "@jupyter-widgets/controls",
      "model_module_version": "1.5.0",
      "model_name": "HTMLModel",
      "state": {
       "layout": "IPY_MODEL_53196a0afb12416abcc6651d07a4564e",
       "style": "IPY_MODEL_7487b8b13b7b416ab32588818c7a9fec",
       "value": "<h5>Job ID</h5>"
      }
     },
     "eea5246b93144bf686f9457d65ee18ad": {
      "model_module": "@jupyter-widgets/controls",
      "model_module_version": "1.5.0",
      "model_name": "ButtonModel",
      "state": {
       "button_style": "primary",
       "description": "Clear",
       "layout": "IPY_MODEL_23d5cb4039f44cec818b242c25936918",
       "style": "IPY_MODEL_cbf7da19b46c4ddebef7281039e8b696"
      }
     },
     "f2adc0f1950f497c9fbc3412907410db": {
      "model_module": "@jupyter-widgets/base",
      "model_module_version": "1.2.0",
      "model_name": "LayoutModel",
      "state": {
       "width": "95px"
      }
     },
     "fdb9e4f074024588a6625eb9321bb2ea": {
      "model_module": "@jupyter-widgets/base",
      "model_module_version": "1.2.0",
      "model_name": "LayoutModel",
      "state": {
       "width": "70px"
      }
     }
    },
    "version_major": 2,
    "version_minor": 0
   }
  }
 },
 "nbformat": 4,
 "nbformat_minor": 4
}
