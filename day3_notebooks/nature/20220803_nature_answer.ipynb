{
 "cells": [
  {
   "cell_type": "markdown",
   "id": "6c8e2c1f",
   "metadata": {},
   "source": [
    "# 分子のシミュレーション\n",
    "\n",
    "Kifumi Numata (Aug 03, 2022)"
   ]
  },
  {
   "cell_type": "code",
   "execution_count": 1,
   "id": "e1d106af",
   "metadata": {},
   "outputs": [],
   "source": [
    "# !pip install pyscf"
   ]
  },
  {
   "cell_type": "markdown",
   "id": "546dc93c",
   "metadata": {},
   "source": [
    "上のセルの\"#\"を削除して、実行した後、「Kernel」→「Restart Kernel」でカーネルの再起動をします。その後、次のセルから実行します。"
   ]
  },
  {
   "cell_type": "code",
   "execution_count": 2,
   "id": "d0c8f002",
   "metadata": {},
   "outputs": [],
   "source": [
    "import warnings\n",
    "warnings.filterwarnings(\"ignore\")"
   ]
  },
  {
   "cell_type": "markdown",
   "id": "03ce004b",
   "metadata": {},
   "source": [
    "## Step 1: 水素分子の構造を定義する\n",
    "このチュートリアルでは、水素分子(H$_2$)を使います。\n",
    "\n",
    "<img src=\"h2.png\"/>\n",
    "\n",
    "\n",
    "まず最初に行うことは、各原子核の位置を固定します。pythonの原子核のリストとして指定し、各原子核（リスト）には、原子の種類に対応した文字列とその3次元座標（別のリスト）が含まれます。また、全体の電荷を指定すると、その電荷を生成するために必要な電子の数をQiskitが自動的に計算します。"
   ]
  },
  {
   "cell_type": "code",
   "execution_count": 3,
   "id": "42dbdbdb",
   "metadata": {},
   "outputs": [],
   "source": [
    "from qiskit_nature.drivers import UnitsType, Molecule\n",
    "molecule = Molecule(\n",
    "    geometry=[[\"H\", [0.0, 0.0, 0.0]], [\"H\", [0.0, 0.0, 0.735]]], charge=0, multiplicity=1\n",
    ")"
   ]
  },
  {
   "cell_type": "markdown",
   "id": "8bb47d9c",
   "metadata": {},
   "source": [
    "原子核の位置が固定されると（原子核-原子核間の力は一時的に無関係になり）、Qiskit は相互作用する電子-電子間のエネルギーの式(ハミルトニアン)を生成します。\n",
    "\n",
    "ここでは、電子のエネルギー式(ハミルトニアン)を計算するための古典的な化学のコードとのインターフェースとなる「ドライバー」を指定します。"
   ]
  },
  {
   "cell_type": "code",
   "execution_count": 4,
   "id": "f94ec802",
   "metadata": {},
   "outputs": [],
   "source": [
    "from qiskit_nature.drivers.second_quantization import (\n",
    "    ElectronicStructureDriverType,\n",
    "    ElectronicStructureMoleculeDriver,\n",
    ")\n",
    "\n",
    "driver = ElectronicStructureMoleculeDriver(\n",
    "    molecule, basis=\"sto3g\", driver_type=ElectronicStructureDriverType.PYSCF\n",
    ")"
   ]
  },
  {
   "cell_type": "code",
   "execution_count": 5,
   "id": "3cd0f14e",
   "metadata": {},
   "outputs": [
    {
     "name": "stdout",
     "output_type": "stream",
     "text": [
      "(1, 1) 4\n"
     ]
    }
   ],
   "source": [
    "properties = driver.run()\n",
    "\n",
    "# 電子の数と電子のスピン軌道の数が計算されます。\n",
    "num_particles= properties.get_property(\"ParticleNumber\").num_particles\n",
    "num_spin_orbitals = properties.get_property(\"ParticleNumber\").num_spin_orbitals\n",
    "print(num_particles, num_spin_orbitals)"
   ]
  },
  {
   "cell_type": "markdown",
   "id": "8728cc62",
   "metadata": {},
   "source": [
    "## Step 2: 電子の運動のエネルギーの式を作る\n",
    "\n",
    "QiskitにはElectronicStructureProblemという便利なクラスがあり、電子のハミルトニアンを構築するためにドライバーを呼び出します。"
   ]
  },
  {
   "cell_type": "code",
   "execution_count": 6,
   "id": "3c7b7af7",
   "metadata": {},
   "outputs": [],
   "source": [
    "from qiskit_nature.problems.second_quantization import ElectronicStructureProblem\n",
    "es_problem = ElectronicStructureProblem(driver)"
   ]
  },
  {
   "cell_type": "markdown",
   "id": "3be513e2",
   "metadata": {},
   "source": [
    "ここでは、電子(フェルミオン：フェルミオンとは、電子の振る舞いを表す言葉です)のハミルトニアン（フェルミ演算子によるハミルトニアン）の作成を進めるように指示しています。"
   ]
  },
  {
   "cell_type": "code",
   "execution_count": 7,
   "id": "7e448442",
   "metadata": {},
   "outputs": [
    {
     "name": "stdout",
     "output_type": "stream",
     "text": [
      "Fermionic Operator\n",
      "register length=4, number terms=14\n",
      "  (0.18093119978423106+0j) * ( +_0 -_1 +_2 -_3 )\n",
      "+ (-0.18093119978423128+0j) * ( +_0 -_1 -_2 +_3 )\n",
      "+ (-0.18093119978423128+0j) * ( -_0 +_1 +_2 -_3 )\n",
      "+ (0.18093119978423144+0j) * ( -_0 +_1 -_2 +_3  ...\n"
     ]
    }
   ],
   "source": [
    "second_q_op = es_problem.second_q_ops()\n",
    "print(second_q_op[0])"
   ]
  },
  {
   "cell_type": "markdown",
   "id": "4f61795d",
   "metadata": {},
   "source": [
    "## Step 3: エネルギー式を量子ゲートに変換\n",
    "\n",
    "量子コンピューターは量子ビットで作られているため、このフェルミ演算子のハミルトニアンを量子ビット演算子に変換する必要があります。フェルミ演算子から量子ビット演算子への変換器は複数あります。色々な変換器を試すことができますが、ここでは、量子ビットが電子のスピン軌道を表現するというシンプルな関係性を持つJordanWignerMapperを使います。\n",
    "\n",
    "以下で、フェルミ演算子によるハミルトニアンをパウリ演算子に変換します。"
   ]
  },
  {
   "cell_type": "code",
   "execution_count": 8,
   "id": "a2dba354",
   "metadata": {},
   "outputs": [
    {
     "name": "stdout",
     "output_type": "stream",
     "text": [
      "0.04523279994605781 * YYYY\n",
      "+ 0.04523279994605781 * XXYY\n",
      "+ 0.04523279994605781 * YYXX\n",
      "+ 0.04523279994605781 * XXXX\n",
      "- 0.8105479805373281 * IIII\n",
      "- 0.22575349222402358 * ZIII\n",
      "+ 0.17218393261915543 * IZII\n",
      "+ 0.12091263261776633 * ZZII\n",
      "- 0.22575349222402358 * IIZI\n",
      "+ 0.17464343068300436 * ZIZI\n",
      "+ 0.16614543256382414 * IZZI\n",
      "+ 0.17218393261915543 * IIIZ\n",
      "+ 0.16614543256382414 * ZIIZ\n",
      "+ 0.16892753870087904 * IZIZ\n",
      "+ 0.12091263261776633 * IIZZ\n"
     ]
    }
   ],
   "source": [
    "from qiskit_nature.converters.second_quantization import QubitConverter\n",
    "from qiskit_nature.mappers.second_quantization import JordanWignerMapper\n",
    "qubit_converter = QubitConverter(JordanWignerMapper())\n",
    "\n",
    "qubit_op = qubit_converter.convert(second_q_op[0])\n",
    "print(qubit_op)"
   ]
  },
  {
   "cell_type": "markdown",
   "id": "d0e3c3a7",
   "metadata": {},
   "source": [
    "さて、分子とその量子コンピューターへのマッピングを定義したところで、基底エネルギー問題を解くためのアルゴリズムとして、変分量子固有値ソルバー(VQE)を使います。VQEは、短い量子回路を用いた量子-古典ハイブリッドアルゴリズムであり、現在のノイズのある量子コンピューターに適しています。現在の量子コンピューターは、ノイズによって結果が完全にかき消されてしまう前にしか、つまり、短時間しか計算が実行できません。\n",
    "\n",
    "<img src=\"vqe_method_NB.png\"/>"
   ]
  },
  {
   "cell_type": "markdown",
   "id": "d9df4bde",
   "metadata": {},
   "source": [
    "VQEは量子と古典の2つの計算から構成されています。\n",
    "\n",
    "まず、量子コンピューター上に分子のトライアルの量子状態を作ります。このトライアル状態は、古典計算で調整されるパラメーターを含んでいます。トライアル状態が作成されると、そのエネルギーが量子コンピューター上で計算され、その結果は最終的に古典的に利用可能な結果となります。\n",
    "\n",
    "古典コンピューターでは、古典的な最適化アルゴリズムが、前の状態のエネルギーレベルと新しいエネルギーレベルを比べ、トライアル状態のパラメーターを調整します。このプロセスは、エネルギーが最小になり変化しなくなるまで繰り返されます。アルゴリズム全体の出力は、基底エネルギーの近似値とそのパラメーターのセットです。\n"
   ]
  },
  {
   "cell_type": "markdown",
   "id": "9e4ae3a9",
   "metadata": {},
   "source": [
    "## Step 4:   トライアル状態(Ansatz)をセットする\n",
    "\n",
    "トライアル状態は、（ランダムに初期化された）パラメーターの集まりによって指定され、基底エネルギー状態を探索（最小化）しながら状態をパラメーターを変化させていきます。トライアル状態の作成手法はいくつかありますが、今回は、化学の標準的な手法(UCCSD, ユニタリー結合クラスター singles/doubles法)を使います。"
   ]
  },
  {
   "cell_type": "code",
   "execution_count": 9,
   "id": "6dc12bc7",
   "metadata": {},
   "outputs": [
    {
     "data": {
      "image/png": "[encoded data removed]",
      "text/plain": [
       "<Figure size 90.3x24.08 with 1 Axes>"
      ]
     },
     "execution_count": 9,
     "metadata": {},
     "output_type": "execute_result"
    }
   ],
   "source": [
    "from qiskit_nature.circuit.library import UCCSD, PUCCD, SUCCD\n",
    "\n",
    "# Choose the ansatz\n",
    "ansatz_type = \"UCCSD\"\n",
    "ansatz = UCCSD(qubit_converter,num_particles,num_spin_orbitals)\n",
    "ansatz.draw(\"mpl\")"
   ]
  },
  {
   "cell_type": "code",
   "execution_count": 10,
   "id": "3a67e483",
   "metadata": {},
   "outputs": [
    {
     "data": {
      "image/png": "[encoded data removed]",
      "text/plain": [
       "<Figure size 90.3x24.08 with 1 Axes>"
      ]
     },
     "execution_count": 10,
     "metadata": {},
     "output_type": "execute_result"
    }
   ],
   "source": [
    "ansatz.decompose().decompose().decompose().draw(\"mpl\")"
   ]
  },
  {
   "cell_type": "markdown",
   "id": "0a068c19",
   "metadata": {},
   "source": [
    "## Step 5: 量子計算の実行環境を設定\n",
    "\n",
    "VQEは量子コンピューター上で動作するための情報が必要となります。今回は、ノイズのないシミュレーションを使います。最終的には、（ノイズが多いとはいえ）実際の量子ハードウェアでVQEを動作させ、そう遠くない将来に、古典では達成できない結果を得たいと考えています。\n",
    "\n",
    "ノイズのないシミュレーションを行うには、以下の手順に従います。"
   ]
  },
  {
   "cell_type": "code",
   "execution_count": 11,
   "id": "a92f2887",
   "metadata": {},
   "outputs": [],
   "source": [
    "from qiskit.providers.aer import StatevectorSimulator\n",
    "from qiskit import Aer\n",
    "from qiskit.utils import QuantumInstance\n",
    "\n",
    "quantum_instance = QuantumInstance(backend=Aer.get_backend(\"aer_simulator_statevector\"))"
   ]
  },
  {
   "cell_type": "markdown",
   "id": "a7e0aa41",
   "metadata": {},
   "source": [
    "トライアル状態と実行環境を指定して、VQEの解法(VQEUCCFactory)をセットします。"
   ]
  },
  {
   "cell_type": "code",
   "execution_count": 12,
   "id": "22358dd1",
   "metadata": {},
   "outputs": [],
   "source": [
    "from qiskit_nature.algorithms import VQEUCCFactory\n",
    "\n",
    "vqe_solver = VQEUCCFactory(ansatz=ansatz,quantum_instance=quantum_instance)"
   ]
  },
  {
   "cell_type": "markdown",
   "id": "9297c0f2",
   "metadata": {},
   "source": [
    "## Step 6:  VQEの実行\n",
    "\n",
    "Qiskit Natureは分子の基底状態を計算するためにGroundStateEigensolverというクラスを用意しています。\n",
    "\n",
    "GroundStateEigensolver オブジェクトを初期化するためには，上述の2つの一般的なアルゴリズムのサブ・コンポーネント，すなわち，マッピング・メソッド（Step 3）とソルビング・メソッド（Step 5）の指定が必要です。テストのために，VQEソルバーに代わるものとして，古典的なソルバーがあります（以下のnumpy_solverを参照）。"
   ]
  },
  {
   "cell_type": "code",
   "execution_count": 13,
   "id": "ff64951a",
   "metadata": {},
   "outputs": [],
   "source": [
    "from qiskit_nature.algorithms import GroundStateEigensolver\n",
    "\n",
    "hydrogen_ground_state = GroundStateEigensolver(qubit_converter, vqe_solver)"
   ]
  },
  {
   "cell_type": "markdown",
   "id": "49575641",
   "metadata": {},
   "source": [
    "これでようやく、分子の基底状態のエネルギーを求める準備が整いました。\n",
    "\n",
    "分子（Step 1）をエンコードしたフェルミオンのハミルトニアン（Step 2）にGroundStateEigensolver を適用します。すると、すでに指定されているマッパーとVQEソルバーが自動的に適用され、基底状態（の近似）が生成されます。"
   ]
  },
  {
   "cell_type": "code",
   "execution_count": 14,
   "id": "bfa6090b",
   "metadata": {},
   "outputs": [
    {
     "ename": "AlgorithmError",
     "evalue": "'The number of qubits of the ansatz does not match the operator, and the ansatz does not allow setting the number of qubits using `num_qubits`.'",
     "output_type": "error",
     "traceback": [
      "\u001b[0;31m---------------------------------------------------------------------------\u001b[0m",
      "\u001b[0;31mAttributeError\u001b[0m                            Traceback (most recent call last)",
      "\u001b[0;32m/Applications/anaconda3/envs/qiskit/lib/python3.7/site-packages/qiskit/algorithms/minimum_eigen_solvers/vqe.py\u001b[0m in \u001b[0;36m_check_operator_ansatz\u001b[0;34m(self, operator)\u001b[0m\n\u001b[1;32m    328\u001b[0m                 \u001b[0;32mtry\u001b[0m\u001b[0;34m:\u001b[0m\u001b[0;34m\u001b[0m\u001b[0;34m\u001b[0m\u001b[0m\n\u001b[0;32m--> 329\u001b[0;31m                     \u001b[0mself\u001b[0m\u001b[0;34m.\u001b[0m\u001b[0mansatz\u001b[0m\u001b[0;34m.\u001b[0m\u001b[0mnum_qubits\u001b[0m \u001b[0;34m=\u001b[0m \u001b[0moperator\u001b[0m\u001b[0;34m.\u001b[0m\u001b[0mnum_qubits\u001b[0m\u001b[0;34m\u001b[0m\u001b[0;34m\u001b[0m\u001b[0m\n\u001b[0m\u001b[1;32m    330\u001b[0m                 \u001b[0;32mexcept\u001b[0m \u001b[0mAttributeError\u001b[0m \u001b[0;32mas\u001b[0m \u001b[0mex\u001b[0m\u001b[0;34m:\u001b[0m\u001b[0;34m\u001b[0m\u001b[0;34m\u001b[0m\u001b[0m\n",
      "\u001b[0;31mAttributeError\u001b[0m: can't set attribute",
      "\nThe above exception was the direct cause of the following exception:\n",
      "\u001b[0;31mAlgorithmError\u001b[0m                            Traceback (most recent call last)",
      "\u001b[0;32m/var/folders/r6/hgtc6wbx2gx5c_ljybv72nrw0000gn/T/ipykernel_23135/151080072.py\u001b[0m in \u001b[0;36m<module>\u001b[0;34m\u001b[0m\n\u001b[0;32m----> 1\u001b[0;31m \u001b[0mres\u001b[0m \u001b[0;34m=\u001b[0m \u001b[0mhydrogen_ground_state\u001b[0m\u001b[0;34m.\u001b[0m\u001b[0msolve\u001b[0m\u001b[0;34m(\u001b[0m\u001b[0mes_problem\u001b[0m\u001b[0;34m)\u001b[0m\u001b[0;34m\u001b[0m\u001b[0;34m\u001b[0m\u001b[0m\n\u001b[0m\u001b[1;32m      2\u001b[0m \u001b[0;34m\u001b[0m\u001b[0m\n\u001b[1;32m      3\u001b[0m \u001b[0mprint\u001b[0m\u001b[0;34m(\u001b[0m\u001b[0mres\u001b[0m\u001b[0;34m)\u001b[0m\u001b[0;34m\u001b[0m\u001b[0;34m\u001b[0m\u001b[0m\n",
      "\u001b[0;32m/Applications/anaconda3/envs/qiskit/lib/python3.7/site-packages/qiskit_nature/algorithms/ground_state_solvers/ground_state_eigensolver.py\u001b[0m in \u001b[0;36msolve\u001b[0;34m(self, problem, aux_operators)\u001b[0m\n\u001b[1;32m    142\u001b[0m             \u001b[0maux_ops\u001b[0m \u001b[0;34m=\u001b[0m \u001b[0;32mNone\u001b[0m\u001b[0;34m\u001b[0m\u001b[0;34m\u001b[0m\u001b[0m\n\u001b[1;32m    143\u001b[0m \u001b[0;34m\u001b[0m\u001b[0m\n\u001b[0;32m--> 144\u001b[0;31m         \u001b[0mraw_mes_result\u001b[0m \u001b[0;34m=\u001b[0m \u001b[0mself\u001b[0m\u001b[0;34m.\u001b[0m\u001b[0m_solver\u001b[0m\u001b[0;34m.\u001b[0m\u001b[0mcompute_minimum_eigenvalue\u001b[0m\u001b[0;34m(\u001b[0m\u001b[0mmain_operator\u001b[0m\u001b[0;34m,\u001b[0m \u001b[0maux_ops\u001b[0m\u001b[0;34m)\u001b[0m\u001b[0;34m\u001b[0m\u001b[0;34m\u001b[0m\u001b[0m\n\u001b[0m\u001b[1;32m    145\u001b[0m \u001b[0;34m\u001b[0m\u001b[0m\n\u001b[1;32m    146\u001b[0m         \u001b[0mresult\u001b[0m \u001b[0;34m=\u001b[0m \u001b[0mproblem\u001b[0m\u001b[0;34m.\u001b[0m\u001b[0minterpret\u001b[0m\u001b[0;34m(\u001b[0m\u001b[0mraw_mes_result\u001b[0m\u001b[0;34m)\u001b[0m\u001b[0;34m\u001b[0m\u001b[0;34m\u001b[0m\u001b[0m\n",
      "\u001b[0;32m/Applications/anaconda3/envs/qiskit/lib/python3.7/site-packages/qiskit/algorithms/minimum_eigen_solvers/vqe.py\u001b[0m in \u001b[0;36mcompute_minimum_eigenvalue\u001b[0;34m(self, operator, aux_operators)\u001b[0m\n\u001b[1;32m    494\u001b[0m         \u001b[0;31m# this sets the size of the ansatz, so it must be called before the initial point\u001b[0m\u001b[0;34m\u001b[0m\u001b[0;34m\u001b[0m\u001b[0;34m\u001b[0m\u001b[0m\n\u001b[1;32m    495\u001b[0m         \u001b[0;31m# validation\u001b[0m\u001b[0;34m\u001b[0m\u001b[0;34m\u001b[0m\u001b[0;34m\u001b[0m\u001b[0m\n\u001b[0;32m--> 496\u001b[0;31m         \u001b[0mself\u001b[0m\u001b[0;34m.\u001b[0m\u001b[0m_check_operator_ansatz\u001b[0m\u001b[0;34m(\u001b[0m\u001b[0moperator\u001b[0m\u001b[0;34m)\u001b[0m\u001b[0;34m\u001b[0m\u001b[0;34m\u001b[0m\u001b[0m\n\u001b[0m\u001b[1;32m    497\u001b[0m \u001b[0;34m\u001b[0m\u001b[0m\n\u001b[1;32m    498\u001b[0m         \u001b[0;31m# set an expectation for this algorithm run (will be reset to None at the end)\u001b[0m\u001b[0;34m\u001b[0m\u001b[0;34m\u001b[0m\u001b[0;34m\u001b[0m\u001b[0m\n",
      "\u001b[0;32m/Applications/anaconda3/envs/qiskit/lib/python3.7/site-packages/qiskit/algorithms/minimum_eigen_solvers/vqe.py\u001b[0m in \u001b[0;36m_check_operator_ansatz\u001b[0;34m(self, operator)\u001b[0m\n\u001b[1;32m    333\u001b[0m                         \u001b[0;34m\"operator, and the ansatz does not allow setting the \"\u001b[0m\u001b[0;34m\u001b[0m\u001b[0;34m\u001b[0m\u001b[0m\n\u001b[1;32m    334\u001b[0m                         \u001b[0;34m\"number of qubits using `num_qubits`.\"\u001b[0m\u001b[0;34m\u001b[0m\u001b[0;34m\u001b[0m\u001b[0m\n\u001b[0;32m--> 335\u001b[0;31m                     ) from ex\n\u001b[0m\u001b[1;32m    336\u001b[0m \u001b[0;34m\u001b[0m\u001b[0m\n\u001b[1;32m    337\u001b[0m     \u001b[0;34m@\u001b[0m\u001b[0mproperty\u001b[0m\u001b[0;34m\u001b[0m\u001b[0;34m\u001b[0m\u001b[0m\n",
      "\u001b[0;31mAlgorithmError\u001b[0m: 'The number of qubits of the ansatz does not match the operator, and the ansatz does not allow setting the number of qubits using `num_qubits`.'"
     ]
    }
   ],
   "source": [
    "res = hydrogen_ground_state.solve(es_problem)\n",
    "\n",
    "print(res)"
   ]
  },
  {
   "cell_type": "markdown",
   "id": "17787d76",
   "metadata": {},
   "source": [
    "ご覧のように、電子分布の基底状態のエネルギーを計算しました：-1.85 Hartree\n",
    "\n",
    "原子核の配置から、原子核エネルギー（Nuclear repulsion energy）も与えられています（古典計算から求められます）。\n",
    "\n",
    "最後に、量子力学的に計算されたエネルギーと、それと同等の精度（ただし時間はかかる）で古典計算されたエネルギーを比較してみます。"
   ]
  },
  {
   "cell_type": "code",
   "execution_count": 15,
   "id": "5dfb40d8",
   "metadata": {},
   "outputs": [],
   "source": [
    "from qiskit.algorithms import NumPyMinimumEigensolver\n",
    "\n",
    "numpy_solver = NumPyMinimumEigensolver()"
   ]
  },
  {
   "cell_type": "code",
   "execution_count": 16,
   "id": "c5b7bac4",
   "metadata": {},
   "outputs": [
    {
     "name": "stdout",
     "output_type": "stream",
     "text": [
      "=== GROUND STATE ENERGY ===\n",
      " \n",
      "* Electronic ground state energy (Hartree): -1.857275030202\n",
      "  - computed part:      -1.857275030202\n",
      "~ Nuclear repulsion energy (Hartree): 0.719968994449\n",
      "> Total ground state energy (Hartree): -1.137306035753\n",
      " \n",
      "=== MEASURED OBSERVABLES ===\n",
      " \n",
      "  0:  # Particles: 2.000 S: 0.000 S^2: 0.000 M: 0.000\n",
      " \n",
      "=== DIPOLE MOMENTS ===\n",
      " \n",
      "~ Nuclear dipole moment (a.u.): [0.0  0.0  1.3889487]\n",
      " \n",
      "  0: \n",
      "  * Electronic dipole moment (a.u.): [0.0  0.0  1.3889487]\n",
      "    - computed part:      [0.0  0.0  1.3889487]\n",
      "  > Dipole moment (a.u.): [0.0  0.0  0.0]  Total: 0.0\n",
      "                 (debye): [0.0  0.0  0.0]  Total: 0.0\n",
      " \n"
     ]
    }
   ],
   "source": [
    "hydrogen_ground_state = GroundStateEigensolver(qubit_converter, numpy_solver)\n",
    "res = hydrogen_ground_state.solve(es_problem)\n",
    "print(res)"
   ]
  },
  {
   "cell_type": "markdown",
   "id": "cb31ab02",
   "metadata": {},
   "source": [
    "Total ground state energyが、小数点以下において何桁も一致していることから、この特定のハミルトニアンに対して、VQEアルゴリズムが正確に最低のエネルギー解を見つけていることが分かります。"
   ]
  },
  {
   "cell_type": "markdown",
   "id": "93d8e7e7",
   "metadata": {},
   "source": [
    "## 原子間距離を変えてエネルギー曲面を求める\n"
   ]
  },
  {
   "cell_type": "markdown",
   "id": "6b757472",
   "metadata": {},
   "source": [
    "## Step 1の改良: 分子を変化させる\n",
    "\n",
    "Step 1 では、分子の定義を行いました。今回の課題では、まず、プロテアーゼ分子（*ハサミ*）のトイモデルと、近づいてきた抗レトロウイルス（*ブロッカー*）のトイモデルを対応させて、*マクロ分子*を形成する新しい分子を定義する必要があります。次に、Qiskitに接近距離を変化させるように指示する必要があります。それでは、おなじみの水素分子を使って、その方法を学んでみましょう。"
   ]
  },
  {
   "cell_type": "markdown",
   "id": "679a3027",
   "metadata": {},
   "source": [
    "*ここでは、私たちが興味を持っている分子の変化（molecular variatio）の種類（すなわち、接近距離を絶対的なステップで変化させること）を指定する方法を紹介します*："
   ]
  },
  {
   "cell_type": "code",
   "execution_count": 17,
   "id": "52587bf1",
   "metadata": {},
   "outputs": [],
   "source": [
    "molecular_variation = Molecule.absolute_stretching"
   ]
  },
  {
   "cell_type": "markdown",
   "id": "36d88e75",
   "metadata": {},
   "source": [
    "*ここでは、どの原子に変化が適用されるかを指定する方法を説明します。数字はジオメトリーの定義リストの中の原子のインデックスを参照しています。指定されたatom_pairの左側の原子が、右側の原子に近づきます。*"
   ]
  },
  {
   "cell_type": "code",
   "execution_count": 18,
   "id": "58a2b4c8",
   "metadata": {},
   "outputs": [],
   "source": [
    "from functools import partial as apply_variation_to_atom_pair\n",
    "specific_molecular_variation = apply_variation_to_atom_pair(molecular_variation, atom_pair=(1, 0))"
   ]
  },
  {
   "cell_type": "markdown",
   "id": "fab523ef",
   "metadata": {},
   "source": [
    "*水素の例で定義を変更する方法を紹介します。*\n"
   ]
  },
  {
   "cell_type": "code",
   "execution_count": 19,
   "id": "7d8acf9f",
   "metadata": {},
   "outputs": [],
   "source": [
    "hydrogen_molecule_stretchable = Molecule(geometry=\n",
    "                                 [['H', [0., 0., 0.]],\n",
    "                                  ['H', [0., 0., 0.735]]],\n",
    "                                  charge=0, multiplicity=1,\n",
    "                                  degrees_of_freedom=[specific_molecular_variation])"
   ]
  },
  {
   "cell_type": "markdown",
   "id": "a6674120",
   "metadata": {},
   "source": [
    "\n",
    "変化が起きているかどうかをテストしたい場合は、手動で任意の変化量を指定し（Qiskitはこれを*perturbation*（摂動）と呼びます）、新しいジオメトリーがどうなるかを確認することができます："
   ]
  },
  {
   "cell_type": "code",
   "execution_count": 20,
   "id": "235d7862",
   "metadata": {},
   "outputs": [],
   "source": [
    "hydrogen_molecule_stretchable.perturbations = [0.1]"
   ]
  },
  {
   "cell_type": "markdown",
   "id": "01263e75",
   "metadata": {},
   "source": [
    "(上記が指定されていない場合、摂動はゼロとなり、デフォルトでは元のジオメトリになります。)"
   ]
  },
  {
   "cell_type": "code",
   "execution_count": 21,
   "id": "7b332b43",
   "metadata": {},
   "outputs": [
    {
     "data": {
      "text/plain": [
       "[['H', [0.0, 0.0, 0.0]], ('H', [0.0, 0.0, 0.835])]"
      ]
     },
     "execution_count": 21,
     "metadata": {},
     "output_type": "execute_result"
    }
   ],
   "source": [
    "hydrogen_molecule_stretchable.geometry"
   ]
  },
  {
   "cell_type": "markdown",
   "id": "3cd08b87",
   "metadata": {},
   "source": [
    "ジオメトリーのリストの2番目の原子（atom_pairの最初に指定されているindex 1のもの）だけが、指定した量だけ他の原子に近づいていることに注目してください。異なる接近距離をスキャンする際には、Qiskitが非常に便利に自動化してくれます。"
   ]
  },
  {
   "cell_type": "markdown",
   "id": "8f2a4c88",
   "metadata": {},
   "source": [
    "## Step 6の改良：エネルギー曲面\n",
    "\n",
    "Step 6では、与えられた分子に対して一度だけ ground_state solver を実行しましたが、上で紹介した仕様を使ってQiskitに分子の形状を変化させるように指示する方法はまだ説明していません。原子核の位置を変えて全エネルギーレベルを比較することで、最もエネルギーが低い原子核の配置を見つける方法です。最も低いエネルギーが「無限大」で**ない**場合、これはエネルギーが最小となる分子の「安定した」結合状態に相当します。このように、エネルギーを原子間距離の関数として求めることは、非常に重要な研究対象です。この関数は **Born-Oppenheimer Potential Energy Surface (BOPES)** と呼ばれています。Qiskit は、形状を変化させ、ground_state solver を繰り返し呼び出すこのプロセスを管理する便利な python クラスを提供します。: **BOPESSampler** です。\n",
    "\n",
    "水素分子のBOPESSamplerをデモしてみましょう。\n",
    "\n",
    "*水素分子の例題で再実行する必要があるのは、Steps 1 と2だけです：*"
   ]
  },
  {
   "cell_type": "code",
   "execution_count": 22,
   "id": "7fcb631d",
   "metadata": {},
   "outputs": [],
   "source": [
    "hydrogen_stretchable_molecular_orbital_maker = ElectronicStructureMoleculeDriver(\n",
    "    molecule=hydrogen_molecule_stretchable, basis=\"sto3g\", driver_type=ElectronicStructureDriverType.PYSCF\n",
    ")\n",
    "hydrogen_stretchable_fermionic_hamiltonian = ElectronicStructureProblem(hydrogen_stretchable_molecular_orbital_maker)"
   ]
  },
  {
   "cell_type": "markdown",
   "id": "d2e7d080",
   "metadata": {},
   "source": [
    "*次に、サンプラーの呼び出し方です。：*"
   ]
  },
  {
   "cell_type": "code",
   "execution_count": 23,
   "id": "352bd52d",
   "metadata": {},
   "outputs": [],
   "source": [
    "from qiskit_nature.algorithms import BOPESSampler\n",
    "import numpy as np\n",
    "\n",
    "energy_surface = BOPESSampler(gss=hydrogen_ground_state, bootstrap=False) # 試行が同じなので、Step4で設定したソルバーで十分です\n",
    "perturbation_steps = np.linspace(-0.5, 2, 25) # 0.5～2までの25点を等間隔に配置する\n",
    "\n",
    "energy_surface_result = energy_surface.sample(hydrogen_stretchable_fermionic_hamiltonian, perturbation_steps)"
   ]
  },
  {
   "cell_type": "markdown",
   "id": "35da6624",
   "metadata": {},
   "source": [
    "少し実行に時間がかかります。\n",
    "\n",
    "*次に、有名なエネルギー曲面のプロット作成方法です。：*"
   ]
  },
  {
   "cell_type": "code",
   "execution_count": 24,
   "id": "f4b3d55f",
   "metadata": {},
   "outputs": [
    {
     "data": {
      "image/png": "[encoded data removed]",
      "text/plain": [
       "<Figure size 432x288 with 1 Axes>"
      ]
     },
     "metadata": {
      "needs_background": "light"
     },
     "output_type": "display_data"
    }
   ],
   "source": [
    "import matplotlib.pyplot as plt\n",
    "\n",
    "def plot_energy_landscape(energy_surface_result):\n",
    "    if len(energy_surface_result.points) > 1:\n",
    "        plt.plot(energy_surface_result.points, energy_surface_result.energies, label=\"VQE Energy\")\n",
    "        plt.xlabel('Atomic distance Deviation(Angstrom)')\n",
    "        plt.ylabel('Energy (hartree)')\n",
    "        plt.legend()\n",
    "        plt.show()\n",
    "    else:\n",
    "        print(\"Total Energy is: \", energy_surface_result.energies[0], \"hartree\")\n",
    "        print(\"(No need to plot, only one configuration calculated.)\")\n",
    "    \n",
    "plot_energy_landscape(energy_surface_result)"
   ]
  },
  {
   "cell_type": "markdown",
   "id": "699e6a59",
   "metadata": {},
   "source": [
    "直感的には、エネルギー地形を、山と谷、そしてボールが転がる台地の隣にあると考えるとよいでしょう（ボールのx座標は、2つの水素原子の間隔に対応します）。ボールが台地を転がる速度が速すぎなければ（右から左へ）、ボールは谷に落ち着くかもしれません。傾きが正（2つの水素原子の間に引力があることを表す）なので、ボールはゆっくりと台地を転がり落ちます。ボールが谷である最小点を通り越すと、山の急な負の傾きの斜面にぶつかり、すぐに転がり戻ってしまいます（水素原子は互いに反発します）。\n",
    "\n",
    "ここで、最小値がゼロであることに注目してください。これは、水素分子の原子核の位置を、既知の基底状態の位置に定義したからです。\n",
    "\n",
    "ちなみに、hardware_inspired_trialを使えば、同じようなプロットができたと思いますが、Anzatzが異なる結合長で電子基底状態を均等に捕らえることができないため、凸凹ができたと思われます。"
   ]
  },
  {
   "cell_type": "markdown",
   "id": "6fc340bf",
   "metadata": {},
   "source": [
    "\n",
    "***\n"
   ]
  },
  {
   "cell_type": "markdown",
   "id": "67dd486a",
   "metadata": {},
   "source": [
    "# 量子化学でHIVの課題を解く\n",
    "\n",
    "[IBM Quantum Challenge Africa](https://github.com/qiskit-community/ibm-quantum-challenge-africa-2021) より\n",
    "\n",
    "<img src=\"HIV-1_capsid_wikipedia.png\"/>"
   ]
  },
  {
   "cell_type": "markdown",
   "id": "31e84d19",
   "metadata": {},
   "source": [
    "**HIVは、世界的に見ても公衆衛生上、非常に大きな課題となっているウイルスです。** その結果、栄養状態、健康へのアクセス、教育、研究費など、社会のさまざまな側面に影響を与えています。さらに、このウイルスは急速に変異し、異なる株が異なる地域に分布していることも問題です。特に、HIV-1-CとHIV-2の株は、主にアフリカで多く見られます。資金面での格差により、アフリカ株の治療法の研究は他のプログラムに比べて遅れています。アフリカの研究者たちは、この不均衡を解消しようと努力していますが、彼らのツールキットに量子コンピューティングなどの最新技術を加えることを検討すべきです。\n",
    "\n",
    "**量子コンピューターは、医薬品の設計を飛躍的に向上させます。** 特に、新しい抗レトロウイルス剤を設計するためには、**化学シミュレーション** を行って、抗レトロウイルス剤がウイルスのタンパク質と結合することを確認することが重要です。このようなシミュレーションは、従来のスーパーコンピューターでは難しく、効果がないこともありました。しかし、量子コンピューターを使えば、より正確なシミュレーションが可能になり、よりよい薬剤設計のワークフローが実現すると期待されています。\n",
    "\n",
    "詳細：抗レトロウイルス薬は、ウイルスのポリタンパク質をより小さなタンパク質に切断してパッケージ化するプロテアーゼと呼ばれるウイルスタンパク質に結合してブロックする薬剤です。プロテアーゼは、化学的なハサミと考えることができます。抗レトロウイルス剤は、ハサミの切断能力を阻害する粘着性の障害物と考えることができます。プロテアーゼが阻害されると、ウイルスは自分自身のコピーを増やすことができません。\n",
    "\n",
    "ウイルスのプロテアーゼに変異があると、ある抗レトロウイルスの結合傾向が変わります。そのため、変異が起きて抗レトロウイルスがうまく結合できなくなった場合、抗レトロウイルスの分子を調整して再び強く結合できるようにすることが目標となります。\n",
    "\n",
    "**この課題の主な目的は、抗レトロウイルス分子のトイモデルが、ウイルスのプロテアーゼのトイモデルと結合するかどうかを調べることです。**\n",
    "\n",
    "この課題では、 **最先端のハイブリッド古典-量子組み込み化学モデリング** を導入し、古典的な近似とより正確な量子計算の間で作業負荷を分割することができます。\n",
    "\n",
    "最後に、現在の量子コンピューティングに存在するノイズを考慮して最高のパフォーマンスを達成するために、（量子コンピューティングの基本を理解していなくても）量子化学アルゴリズムの設定を微調整する必要があります。"
   ]
  },
  {
   "cell_type": "markdown",
   "id": "61643910",
   "metadata": {},
   "source": [
    "## プロテアーゼ＋抗レトロウイルス薬のマクロ分子の特定"
   ]
  },
  {
   "cell_type": "markdown",
   "id": "dd22bc58",
   "metadata": {},
   "source": [
    "### プロテアーゼ\n",
    "\n",
    "実際のプロテアーゼ分子は、約100個のアミノ酸からなる2本のポリペプチド鎖で構成されており（2本の鎖は折りたたまれています）、隣り合うアミノ酸同士はいわゆる*ペプチド結合*で結ばれています。\n",
    "\n",
    "<img src=\"peptide_bond_wikipedia.png\" title=\"Amino Acid bonding\"/>\n",
    "\n",
    "私たちのプロテアーゼ分子のトイモデルは、このペプチド結合からヒントを得ることにしました。ペプチド結合は、多数のアミノ酸を結合しタンパク質を作る基本的な構造です。ペプチド結合は、一般的なタンパク質の折り畳みや、HIVプロテアーゼの切断能力など、タンパク質の化学的性質を決定する最も重要な要素の1つです。\n",
    "\n",
    "計算を簡単にするために、分子のO=C-Nの部分に注目してみましょう。分子をできるだけ現実的なものにするために、十分な量の水素原子(H)を残し、また追加します（実際、HCONH$_2$（ホルムアミド）は安定した分子で、イオン性の溶媒でもあるので、イオン結合を「切る」ことができます。)\n",
    "\n",
    "O=C-Nをプロテアーゼ分子のトイモデルにすること、非常に単純化されてはいますが、それでも生物学的に動機付けされています。\n",
    "これがそのプロテアーゼのトイモデルです：\n",
    "\n",
    "<img width=50% src=\"protease.png\"/>\n",
    "\n",
    "```\n",
    "\"O\":  (1.1280, 0.2091, 0.0000)\n",
    "\"N\": (-1.1878, 0.1791, 0.0000)\n",
    "\"C\": (0.0598, -0.3882, 0.0000)\n",
    "\"H\": (-1.3085, 1.1864, 0.0001)\n",
    "\"H\": (-2.0305, -0.3861, -0.0001)\n",
    "\"H\": (-0.0014, -1.4883, -0.0001)\n",
    "```\n",
    "\n",
    "この分子をハサミに見立てて、HIVウイルスのコピーを作る過程で、HIVのマスタータンパク質（Gag-Pol高タンパク質）を切ることができると想像してみてください：\n",
    "\n",
    "<img width=30% src=\"carpet_scissors_wikipedia_cropped.png\"/>"
   ]
  },
  {
   "cell_type": "markdown",
   "id": "ba2ffda6",
   "metadata": {},
   "source": [
    "### 抗レトロウイルス\n",
    "\n",
    "抗レトロウイルス剤とは、プロテアーゼと結合して、その**切断機構を阻害する**分子のことです。今回のチャレンジでは、1個の炭素原子(C)を抗レトロウイルス分子の代用とします。\n",
    "\n",
    "<img width=10% src=\"arv.png\"/>\n",
    "\n",
    "### マクロ分子\n",
    "2つの分子は私たちの頭の中では別々になっていますが、接近すると、外側の電子がすべての原子の周りに分子軌道を形成して、1つのマクロ分子になります。\n",
    "\n",
    "水素の例題で説明したように、量子的な電子分布は原子の位置を固定して計算されるので、原子を個別に配置する必要があります。1つ目と2つ目の課題では、プロテアーゼの座標を固定し、抗レトロウイルスの位置だけを直線に沿って変化させます。\n",
    "\n",
    "その際、任意の点を通り、窒素原子(N)に近づくアプローチの線を選びます。この「ブロック」と呼ばれるアプローチは、ハサミが切るのを邪魔しようとするものです。それが「刺さった」となれば成功で、HIVの複製活動を妨害することに成功したことになります。"
   ]
  },
  {
   "cell_type": "markdown",
   "id": "f07b6a7b",
   "metadata": {},
   "source": [
    "## Step 1: マクロ分子の分子定義\n",
    "\n",
    "抗レトロウイルス剤が「刃」の間にある窒素原子（N）に接近する様子を表現するために、分子定義と分子変化を構築します：\n",
    "<img width=50% src=\"arv_approaches_protease.png\"/>\n",
    " ```\n",
    " \"C\": (-0.1805, 1.3955, 0.0000)\n",
    " ```"
   ]
  },
  {
   "cell_type": "markdown",
   "id": "3c98ee5b",
   "metadata": {},
   "source": [
    "## 演習\n",
    "下のセルにあなたの分子を作ってください。分子の名前は必ず`macromolecule`としてください。"
   ]
  },
  {
   "cell_type": "code",
   "execution_count": 25,
   "id": "39ea03f1",
   "metadata": {},
   "outputs": [],
   "source": [
    "# specific_molecular_variation = None\n",
    "\n",
    "# macromolecule = None"
   ]
  },
  {
   "cell_type": "code",
   "execution_count": 26,
   "id": "3bb47621",
   "metadata": {},
   "outputs": [],
   "source": [
    "# 解答例\n",
    "specific_molecular_variation = apply_variation_to_atom_pair(\n",
    "    molecular_variation, atom_pair=(6, 1)\n",
    ")\n",
    "macromolecule = Molecule(\n",
    "    geometry=[\n",
    "        [\"O\", [1.1280, 0.2091, 0.0000]],\n",
    "        [\"N\", [-1.1878, 0.1791, 0.0000]],\n",
    "        [\"C\", [0.0598, -0.3882, 0.0000]],\n",
    "        [\"H\", [-1.3085, 1.1864, 0.0001]],\n",
    "        [\"H\", [-2.0305, -0.3861, -0.0001]],\n",
    "        [\"H\", [-0.0014, -1.4883, -0.0001]],\n",
    "        [\"C\", [-0.1805, 1.3955, 0.0000]],\n",
    "    ],\n",
    "    charge=0,\n",
    "    multiplicity=1,\n",
    "    degrees_of_freedom=[specific_molecular_variation],\n",
    ")"
   ]
  },
  {
   "cell_type": "markdown",
   "id": "28f3da8e",
   "metadata": {},
   "source": [
    "## Step 2の改良：量子ワークロードの削減"
   ]
  },
  {
   "cell_type": "markdown",
   "id": "76591dbd",
   "metadata": {},
   "source": [
    "Step 2では、量子ビット・ハミルトニアンを構築しました。上記のマクロ分子にStep 2以降を適用しようとすると、基底状態計算シミュレーションは失敗します。なぜかというと、電荷を0に指定しましたが、Qiskitは30(=2\\*6(2個の炭素)+7(窒素)+8(酸素)+3\\*1(3つの水素))個の電子で動作しなければならないことを知っているからです。これは、第二量子化を行うと、60個のスピン軌道に変換されるので、60量子ビットが必要となります。60量子ビットは、私たちが古典シミュレーションできる範囲を超えており、60量子ビット以上のIBM量子システムもありますが、私たちは使えません。したがって、このチャレンジの目的のために、量子ビットの数を減らす必要があります。幸いなことに、この量子ビット数の削減は化学的な観点からも理由があります。正確な化学的結果を得るためには、内殻電子に対して古典的なハートリーフォック近似で十分な場合があります。さらに幸いなことに、Qiskitはつい最近拡張され、特定の電子を量子計算で処理し、残りの電子を古典的に近似するようにユーザーがシームレスに指定できるようになりました。今後、さらに多くの量子ビットが使えるようになったとしても、近未来の量子コンピューターが通常では手の届かない非常に大きな分子に取り組む際に、この機能は非常に有用であることがわかるでしょう。"
   ]
  },
  {
   "cell_type": "markdown",
   "id": "336fd3a4",
   "metadata": {},
   "source": [
    "*そこで次に、Qiskitに指示して、ある数の電子に量子計算処理をさせる方法を紹介します：*"
   ]
  },
  {
   "cell_type": "code",
   "execution_count": 27,
   "id": "a46a0eff",
   "metadata": {},
   "outputs": [],
   "source": [
    "macro_molecular_orbital_maker = ElectronicStructureMoleculeDriver(\n",
    "    molecule=macromolecule, basis=\"sto3g\", driver_type=ElectronicStructureDriverType.PYSCF\n",
    ")\n",
    "\n",
    "from qiskit_nature.transformers.second_quantization.electronic import ActiveSpaceTransformer\n",
    "split_into_classical_and_quantum =  ActiveSpaceTransformer(num_electrons=2, num_molecular_orbitals=2)\n",
    "macro_fermionic_hamiltonian = ElectronicStructureProblem(macro_molecular_orbital_maker, [split_into_classical_and_quantum])"
   ]
  },
  {
   "cell_type": "markdown",
   "id": "79a1dc47",
   "metadata": {},
   "source": [
    "上記のように、Qiskitには**ActiveSpaceTransformer**というクラスがあり、2つの引数を受け取ります。1つ目は、量子計算処理を受けるべき電子の数です（一番外側の電子から順に選んでいきます）。2つ目は、それらの電子が自由に動き回れるようにするための軌道の数です。必要な量子ビット数を決めるのは、この2つ目の数です。（NとCの結合なのでそれぞれ1個ずつ合計2個の電子をアクティブな電子として扱い、それ以外の内殻電子は非アクティブな電子とします。）"
   ]
  },
  {
   "cell_type": "markdown",
   "id": "e74fe3d2",
   "metadata": {},
   "source": [
    "## 抗レトロウイルス剤はプロテアーゼと結合し、反応をブロックするでしょうか？"
   ]
  },
  {
   "cell_type": "markdown",
   "id": "4487f464",
   "metadata": {},
   "source": [
    "抗レトロウイルス剤のトイモデルとプロテアーゼのトイモデルを使って、反応をシミュレーションします。"
   ]
  },
  {
   "cell_type": "code",
   "execution_count": 28,
   "id": "4e678cd3",
   "metadata": {},
   "outputs": [
    {
     "data": {
      "text/plain": [
       "[FermionicOp([('+_0 -_0', -0.7480534066333699), ('+_0 -_1', -0.05107681606888657), ('+_1 -_0', -0.05107681606888659), ('+_1 -_1', -0.3271904136921247), ('+_2 -_2', -0.7480534066333699), ('+_2 -_3', -0.0510768...)], register_length=4, display_format='sparse'),\n",
       " FermionicOp([('+_0 -_0', (1+0j)), ('+_1 -_1', (1+0j)), ('+_2 -_2', (1+0j)), ('+_3 -_3', (1+0j))], register_length=4, display_format='sparse'),\n",
       " FermionicOp([('+_0 -_0', (0.75+0j)), ('+_1 -_1', (0.75+0j)), ('+_2 -_2', (0.75+0j)), ('+_3 -_3', (0.75+0j)), ('+_0 -_0 +_1 -_1', (0.5+0j)), ('+_0 -_0 +_2 -_2', (-1.5+0j)), ('+_0 -_0 +_3 -_3', (-0.5+0j)), ('+...)], register_length=4, display_format='sparse'),\n",
       " FermionicOp([('+_0 -_0', (0.5+0j)), ('+_1 -_1', (0.5+0j)), ('+_2 -_2', (-0.5+0j)), ('+_3 -_3', (-0.5+0j))], register_length=4, display_format='sparse'),\n",
       " FermionicOp([('+_0 -_0', -0.3717988168531827), ('+_0 -_1', -0.2521778962133689), ('+_1 -_0', -0.2521778962133689), ('+_1 -_1', 0.43926721242835276), ('+_2 -_2', -0.3717988168531827), ('+_2 -_3', -0.252177896...)], register_length=4, display_format='sparse'),\n",
       " FermionicOp([('+_0 -_0', 2.356547563747744), ('+_0 -_1', 0.5355679966267861), ('+_1 -_0', 0.5355679966267861), ('+_1 -_1', -0.20175665289966188), ('+_2 -_2', 2.356547563747744), ('+_2 -_3', 0.535567996626786...)], register_length=4, display_format='sparse'),\n",
       " FermionicOp([('+_0 -_0', -9.105047052093251e-05), ('+_0 -_1', -1.8539157019420354e-05), ('+_1 -_0', -1.8539157019420364e-05), ('+_1 -_1', 4.5892868741280424e-05), ('+_2 -_2', -9.105047052093251e-05), ('+_2 -...)], register_length=4, display_format='sparse')]"
      ]
     },
     "execution_count": 28,
     "metadata": {},
     "output_type": "execute_result"
    }
   ],
   "source": [
    "# Step 1 の続き：ドライバーの設定\n",
    "macro_molecular_orbital_maker = ElectronicStructureMoleculeDriver(\n",
    "    molecule=macromolecule, basis=\"sto3g\", driver_type=ElectronicStructureDriverType.PYSCF\n",
    ")\n",
    "\n",
    "# Step 2：電子の運動のエネルギーの式を作る\n",
    "from qiskit_nature.transformers.second_quantization.electronic import ActiveSpaceTransformer\n",
    "split_into_classical_and_quantum =  ActiveSpaceTransformer(num_electrons=2, num_molecular_orbitals=2)\n",
    "macro_fermionic_hamiltonian = ElectronicStructureProblem(macro_molecular_orbital_maker, [split_into_classical_and_quantum])\n",
    "\n",
    "macro_fermionic_hamiltonian.second_q_ops()"
   ]
  },
  {
   "cell_type": "code",
   "execution_count": 29,
   "id": "28b02d79",
   "metadata": {},
   "outputs": [
    {
     "name": "stdout",
     "output_type": "stream",
     "text": [
      "-0.8105479805373279 * IIII\n",
      "+ 0.17218393261915527 * IIIZ\n",
      "- 0.22575349222402374 * IIZI\n",
      "+ 0.1721839326191553 * IZII\n",
      "- 0.22575349222402372 * ZIII\n",
      "+ 0.1209126326177663 * IIZZ\n",
      "+ 0.16892753870087912 * IZIZ\n",
      "+ 0.045232799946057826 * YYYY\n",
      "+ 0.045232799946057826 * XXYY\n",
      "+ 0.045232799946057826 * YYXX\n",
      "+ 0.045232799946057826 * XXXX\n",
      "+ 0.16614543256382414 * ZIIZ\n",
      "+ 0.16614543256382414 * IZZI\n",
      "+ 0.17464343068300447 * ZIZI\n",
      "+ 0.1209126326177663 * ZZII\n"
     ]
    }
   ],
   "source": [
    "# Step 3: エネルギー式を量子ゲートに変換\n",
    "map_fermions_to_qubits = QubitConverter(JordanWignerMapper())\n",
    "\n",
    "qubit_op = qubit_converter.convert(second_q_op[0])\n",
    "print(qubit_op)"
   ]
  },
  {
   "cell_type": "code",
   "execution_count": 30,
   "id": "6ab62c84",
   "metadata": {},
   "outputs": [],
   "source": [
    "# Step 4: トライアル状態(Ansatz)をセットする\n",
    "molecule_info = macro_fermionic_hamiltonian.grouped_property_transformed\n",
    "particle_number = molecule_info.get_property(\"ParticleNumber\")\n",
    "num_electrons_spin_up_spin_down = (\n",
    "    particle_number.num_alpha,\n",
    "    particle_number.num_beta,\n",
    ")\n",
    "\n",
    "from qiskit_nature.circuit.library.initial_states import HartreeFock\n",
    "\n",
    "initial_state = HartreeFock(\n",
    "    num_spin_orbitals, num_electrons_spin_up_spin_down, map_fermions_to_qubits\n",
    ")\n",
    "\n",
    "chemistry_inspired_trial = UCCSD(\n",
    "    map_fermions_to_qubits,\n",
    "    num_electrons_spin_up_spin_down,\n",
    "    num_spin_orbitals,\n",
    "    initial_state=initial_state,\n",
    ")\n",
    "\n",
    "trial_state = chemistry_inspired_trial"
   ]
  },
  {
   "cell_type": "code",
   "execution_count": 31,
   "id": "5ccdc909",
   "metadata": {},
   "outputs": [],
   "source": [
    "# Step 5: 量子計算の実行環境を設定\n",
    "noise_free_quantum_environment = QuantumInstance(Aer.get_backend('statevector_simulator'))\n",
    "solver = VQEUCCFactory(ansatz=trial_state,quantum_instance=noise_free_quantum_environment)"
   ]
  },
  {
   "cell_type": "code",
   "execution_count": 32,
   "id": "44bf0f12",
   "metadata": {},
   "outputs": [],
   "source": [
    "# Step 6: VQEの実行\n",
    "ground_state = GroundStateEigensolver(map_fermions_to_qubits, solver)"
   ]
  },
  {
   "cell_type": "code",
   "execution_count": 33,
   "id": "6f5f091b",
   "metadata": {},
   "outputs": [],
   "source": [
    "# エネルギー曲面を求める\n",
    "energy_surface = BOPESSampler(gss=ground_state, bootstrap=False)\n",
    "\n",
    "perturbation_steps = np.linspace(-0.5, 5, 30)\n",
    "energy_surface_result = energy_surface.sample(\n",
    "    macro_fermionic_hamiltonian, perturbation_steps\n",
    ")"
   ]
  },
  {
   "cell_type": "markdown",
   "id": "29b44c8a",
   "metadata": {},
   "source": [
    "少し実行に時間がかかります。"
   ]
  },
  {
   "cell_type": "code",
   "execution_count": 34,
   "id": "fb8f33d2",
   "metadata": {},
   "outputs": [
    {
     "data": {
      "image/png": "[encoded data removed]",
      "text/plain": [
       "<Figure size 432x288 with 1 Axes>"
      ]
     },
     "metadata": {
      "needs_background": "light"
     },
     "output_type": "display_data"
    }
   ],
   "source": [
    "plot_energy_landscape(energy_surface_result)"
   ]
  },
  {
   "cell_type": "markdown",
   "id": "3da64903",
   "metadata": {},
   "source": [
    "抗レトロウイルス剤がプロテアーゼに接近したときのエネルギー・ランドスケープが得られました。どのような距離にも明確な最小値はないので、結合はなく、反応をブロックしないことが分かります。"
   ]
  },
  {
   "cell_type": "code",
   "execution_count": 35,
   "id": "a2ed3502",
   "metadata": {},
   "outputs": [
    {
     "data": {
      "text/html": [
       "<h3>Version Information</h3><table><tr><th>Qiskit Software</th><th>Version</th></tr><tr><td><code>qiskit-terra</code></td><td>0.21.0</td></tr><tr><td><code>qiskit-aer</code></td><td>0.10.4</td></tr><tr><td><code>qiskit-ignis</code></td><td>0.7.0</td></tr><tr><td><code>qiskit-ibmq-provider</code></td><td>0.19.2</td></tr><tr><td><code>qiskit</code></td><td>0.37.0</td></tr><tr><td><code>qiskit-nature</code></td><td>0.4.3</td></tr><tr><td><code>qiskit-finance</code></td><td>0.3.3</td></tr><tr><td><code>qiskit-optimization</code></td><td>0.4.0</td></tr><tr><td><code>qiskit-machine-learning</code></td><td>0.4.0</td></tr><tr><th>System information</th></tr><tr><td>Python version</td><td>3.8.5</td></tr><tr><td>Python compiler</td><td>Clang 10.0.0 </td></tr><tr><td>Python build</td><td>default, Sep  4 2020 02:22:02</td></tr><tr><td>OS</td><td>Darwin</td></tr><tr><td>CPUs</td><td>4</td></tr><tr><td>Memory (Gb)</td><td>16.0</td></tr><tr><td colspan='2'>Sun Jul 31 18:07:03 2022 JST</td></tr></table>"
      ],
      "text/plain": [
       "<IPython.core.display.HTML object>"
      ]
     },
     "metadata": {},
     "output_type": "display_data"
    },
    {
     "data": {
      "text/html": [
       "<div style='width: 100%; background-color:#d5d9e0;padding-left: 10px; padding-bottom: 10px; padding-right: 10px; padding-top: 5px'><h3>This code is a part of Qiskit</h3><p>&copy; Copyright IBM 2017, 2022.</p><p>This code is licensed under the Apache License, Version 2.0. You may<br>obtain a copy of this license in the LICENSE.txt file in the root directory<br> of this source tree or at http://www.apache.org/licenses/LICENSE-2.0.<p>Any modifications or derivative works of this code must retain this<br>copyright notice, and modified files need to carry a notice indicating<br>that they have been altered from the originals.</p></div>"
      ],
      "text/plain": [
       "<IPython.core.display.HTML object>"
      ]
     },
     "metadata": {},
     "output_type": "display_data"
    }
   ],
   "source": [
    "import qiskit.tools.jupyter\n",
    "%qiskit_version_table\n",
    "%qiskit_copyright"
   ]
  },
  {
   "cell_type": "code",
   "execution_count": null,
   "id": "a0ed6bbc",
   "metadata": {},
   "outputs": [],
   "source": []
  }
 ],
 "metadata": {
  "kernelspec": {
   "display_name": "Python 3 (ipykernel)",
   "language": "python",
   "name": "python3"
  },
  "language_info": {
   "codemirror_mode": {
    "name": "ipython",
    "version": 3
   },
   "file_extension": ".py",
   "mimetype": "text/x-python",
   "name": "python",
   "nbconvert_exporter": "python",
   "pygments_lexer": "ipython3",
   "version": "3.7.11"
  },
  "varInspector": {
   "cols": {
    "lenName": 16,
    "lenType": 16,
    "lenVar": 40
   },
   "kernels_config": {
    "python": {
     "delete_cmd_postfix": "",
     "delete_cmd_prefix": "del ",
     "library": "var_list.py",
     "varRefreshCmd": "print(var_dic_list())"
    },
    "r": {
     "delete_cmd_postfix": ") ",
     "delete_cmd_prefix": "rm(",
     "library": "var_list.r",
     "varRefreshCmd": "cat(var_dic_list()) "
    }
   },
   "types_to_exclude": [
    "module",
    "function",
    "builtin_function_or_method",
    "instance",
    "_Feature"
   ],
   "window_display": false
  },
  "widgets": {
   "application/vnd.jupyter.widget-state+json": {
    "state": {
     "1532e6e002b0440dacbd4be1b4d53476": {
      "model_module": "@jupyter-widgets/base",
      "model_module_version": "1.2.0",
      "model_name": "LayoutModel",
      "state": {
       "grid_template_areas": "\n                                       \". . . . right \"\n                                        ",
       "grid_template_columns": "20% 20% 20% 20% 20%",
       "width": "100%"
      }
     },
     "24a88eb6eb8146cfb6add2eeff79995e": {
      "model_module": "@jupyter-widgets/controls",
      "model_module_version": "1.5.0",
      "model_name": "HTMLModel",
      "state": {
       "layout": "IPY_MODEL_bf9f53a1a564437699e515036a0ce2d2",
       "style": "IPY_MODEL_24ea4da5007b48bba0eefb815bf355f2",
       "value": "<h5>Queue</h5>"
      }
     },
     "24ea4da5007b48bba0eefb815bf355f2": {
      "model_module": "@jupyter-widgets/controls",
      "model_module_version": "1.5.0",
      "model_name": "DescriptionStyleModel",
      "state": {
       "description_width": ""
      }
     },
     "34d6eb0ecc3f4693a22590d777c01bff": {
      "model_module": "@jupyter-widgets/controls",
      "model_module_version": "1.5.0",
      "model_name": "GridBoxModel",
      "state": {
       "children": [
        "IPY_MODEL_a2e9a4a096f3492fa00157a542ca6aab"
       ],
       "layout": "IPY_MODEL_1532e6e002b0440dacbd4be1b4d53476"
      }
     },
     "34f4126d27b94cbdb95b5e3db42d4c90": {
      "model_module": "@jupyter-widgets/controls",
      "model_module_version": "1.5.0",
      "model_name": "DescriptionStyleModel",
      "state": {
       "description_width": ""
      }
     },
     "5364e21dbf6c4b1490ce18485212f71f": {
      "model_module": "@jupyter-widgets/base",
      "model_module_version": "1.2.0",
      "model_name": "LayoutModel",
      "state": {
       "grid_area": "right",
       "padding": "0px 0px 0px 0px",
       "width": "70px"
      }
     },
     "6a54cf2cc3b64f3c9c4e06b776734063": {
      "model_module": "@jupyter-widgets/controls",
      "model_module_version": "1.5.0",
      "model_name": "DescriptionStyleModel",
      "state": {
       "description_width": ""
      }
     },
     "6ad5c0d1255b40b99977d37bc5c81f4b": {
      "model_module": "@jupyter-widgets/base",
      "model_module_version": "1.2.0",
      "model_name": "LayoutModel",
      "state": {
       "margin": "0px 0px 0px 37px",
       "width": "600px"
      }
     },
     "77614d7f30b14d12af707f227aae6405": {
      "model_module": "@jupyter-widgets/controls",
      "model_module_version": "1.5.0",
      "model_name": "DescriptionStyleModel",
      "state": {
       "description_width": ""
      }
     },
     "878f6c771bf745fabce67abe28c59bce": {
      "model_module": "@jupyter-widgets/base",
      "model_module_version": "1.2.0",
      "model_name": "LayoutModel",
      "state": {}
     },
     "93f4be9613a647aa9cc2d75a687ddabe": {
      "model_module": "@jupyter-widgets/controls",
      "model_module_version": "1.5.0",
      "model_name": "HBoxModel",
      "state": {
       "children": [
        "IPY_MODEL_ad6328519fa8493aa822d8ea2b454abf",
        "IPY_MODEL_b795ed9f92e7455caba35006a8fae03c",
        "IPY_MODEL_a26f42befbc2428da5a457404a753b69",
        "IPY_MODEL_24a88eb6eb8146cfb6add2eeff79995e",
        "IPY_MODEL_f786ddfaed9f45e78e95bd3a4ad90b56"
       ],
       "layout": "IPY_MODEL_6ad5c0d1255b40b99977d37bc5c81f4b"
      }
     },
     "a26f42befbc2428da5a457404a753b69": {
      "model_module": "@jupyter-widgets/controls",
      "model_module_version": "1.5.0",
      "model_name": "HTMLModel",
      "state": {
       "layout": "IPY_MODEL_e55cd86f1091451e8364b0ee7347d648",
       "style": "IPY_MODEL_34f4126d27b94cbdb95b5e3db42d4c90",
       "value": "<h5>Status</h5>"
      }
     },
     "a2e9a4a096f3492fa00157a542ca6aab": {
      "model_module": "@jupyter-widgets/controls",
      "model_module_version": "1.5.0",
      "model_name": "ButtonModel",
      "state": {
       "button_style": "primary",
       "description": "Clear",
       "layout": "IPY_MODEL_5364e21dbf6c4b1490ce18485212f71f",
       "style": "IPY_MODEL_bcacef5c97424317afc00ef5a8e97b8d"
      }
     },
     "a859d46109714988b0c840d8ffa97305": {
      "model_module": "@jupyter-widgets/controls",
      "model_module_version": "1.5.0",
      "model_name": "HTMLModel",
      "state": {
       "layout": "IPY_MODEL_ca86e5598b72444c8475309e38b6741c",
       "style": "IPY_MODEL_c7c10e6fac2c42aba8f8640097b8530f",
       "value": "<p style='font-family: IBM Plex Sans, Arial, Helvetica, sans-serif; font-size: 20px; font-weight: medium;'>Circuit Properties</p>"
      }
     },
     "ad6328519fa8493aa822d8ea2b454abf": {
      "model_module": "@jupyter-widgets/controls",
      "model_module_version": "1.5.0",
      "model_name": "HTMLModel",
      "state": {
       "layout": "IPY_MODEL_f876a81e03e6499b9d7a65ba2f45702c",
       "style": "IPY_MODEL_6a54cf2cc3b64f3c9c4e06b776734063",
       "value": "<h5>Job ID</h5>"
      }
     },
     "b795ed9f92e7455caba35006a8fae03c": {
      "model_module": "@jupyter-widgets/controls",
      "model_module_version": "1.5.0",
      "model_name": "HTMLModel",
      "state": {
       "layout": "IPY_MODEL_c435ffe76a164843b08ba1e426130c00",
       "style": "IPY_MODEL_d4f9f1267263426ba03d6e805b012d9f",
       "value": "<h5>Backend</h5>"
      }
     },
     "bcacef5c97424317afc00ef5a8e97b8d": {
      "model_module": "@jupyter-widgets/controls",
      "model_module_version": "1.5.0",
      "model_name": "ButtonStyleModel",
      "state": {}
     },
     "bf9f53a1a564437699e515036a0ce2d2": {
      "model_module": "@jupyter-widgets/base",
      "model_module_version": "1.2.0",
      "model_name": "LayoutModel",
      "state": {
       "width": "70px"
      }
     },
     "c435ffe76a164843b08ba1e426130c00": {
      "model_module": "@jupyter-widgets/base",
      "model_module_version": "1.2.0",
      "model_name": "LayoutModel",
      "state": {
       "width": "145px"
      }
     },
     "c7c10e6fac2c42aba8f8640097b8530f": {
      "model_module": "@jupyter-widgets/controls",
      "model_module_version": "1.5.0",
      "model_name": "DescriptionStyleModel",
      "state": {
       "description_width": ""
      }
     },
     "ca86e5598b72444c8475309e38b6741c": {
      "model_module": "@jupyter-widgets/base",
      "model_module_version": "1.2.0",
      "model_name": "LayoutModel",
      "state": {
       "margin": "0px 0px 10px 0px"
      }
     },
     "d4f9f1267263426ba03d6e805b012d9f": {
      "model_module": "@jupyter-widgets/controls",
      "model_module_version": "1.5.0",
      "model_name": "DescriptionStyleModel",
      "state": {
       "description_width": ""
      }
     },
     "e55cd86f1091451e8364b0ee7347d648": {
      "model_module": "@jupyter-widgets/base",
      "model_module_version": "1.2.0",
      "model_name": "LayoutModel",
      "state": {
       "width": "95px"
      }
     },
     "f786ddfaed9f45e78e95bd3a4ad90b56": {
      "model_module": "@jupyter-widgets/controls",
      "model_module_version": "1.5.0",
      "model_name": "HTMLModel",
      "state": {
       "layout": "IPY_MODEL_878f6c771bf745fabce67abe28c59bce",
       "style": "IPY_MODEL_77614d7f30b14d12af707f227aae6405",
       "value": "<h5>Message</h5>"
      }
     },
     "f876a81e03e6499b9d7a65ba2f45702c": {
      "model_module": "@jupyter-widgets/base",
      "model_module_version": "1.2.0",
      "model_name": "LayoutModel",
      "state": {
       "width": "190px"
      }
     }
    },
    "version_major": 2,
    "version_minor": 0
   }
  }
 },
 "nbformat": 4,
 "nbformat_minor": 5
}
