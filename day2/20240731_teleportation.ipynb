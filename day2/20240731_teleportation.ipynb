{
 "cells": [
  {
   "cell_type": "markdown",
   "metadata": {},
   "source": [
    "Kawasaki Quantum Summer Camp 2024\n",
    "\n",
    "# 量子テレポーテーション\n",
    "\n",
    "\n",
    "Kifumi Numata, IBM Quantum (Jul 31, 2024)"
   ]
  },
  {
   "cell_type": "markdown",
   "metadata": {},
   "source": [
    "Google Colab で行う場合は、次のセルの「#」を削除して実行します。"
   ]
  },
  {
   "cell_type": "code",
   "execution_count": null,
   "metadata": {},
   "outputs": [],
   "source": [
    "#!pip install qiskit qiskit-ibm-runtime qiskit-aer qiskit[visualization]"
   ]
  },
  {
   "cell_type": "markdown",
   "metadata": {},
   "source": [
    "qBraid で行う場合は、右上の「Python 3[Default]」をクリックして「Python 3[QDC24]」を選択し、次のセルの「#」を削除して実行したあと、上部の「Kernel」→「Restart Kernel...」からカーネルをリスタートしてください。"
   ]
  },
  {
   "cell_type": "code",
   "execution_count": null,
   "metadata": {},
   "outputs": [],
   "source": [
    "#!pip install pylatexenc"
   ]
  },
  {
   "cell_type": "code",
   "execution_count": null,
   "metadata": {},
   "outputs": [],
   "source": [
    "# Qiskitライブラリーを導入\n",
    "from qiskit.circuit import QuantumCircuit\n",
    "from qiskit_aer import AerSimulator, StatevectorSimulator\n",
    "from qiskit.transpiler.preset_passmanagers import generate_preset_pass_manager\n",
    "from qiskit.visualization import plot_histogram, plot_bloch_multivector\n",
    "from qiskit_ibm_runtime import QiskitRuntimeService, SamplerV2\n",
    "from qiskit.result import marginal_counts\n",
    "\n",
    "import numpy as np"
   ]
  },
  {
   "cell_type": "code",
   "execution_count": null,
   "metadata": {},
   "outputs": [],
   "source": [
    "# 3量子ビット回路を用意\n",
    "qc = QuantumCircuit(3,3)    \n",
    "\n",
    "# Aliceのもつ暗号の量子状態ψを今回はRxで作ります\n",
    "qc.rx(np.pi/3,0)\n",
    "qc.barrier()    #回路を見やすくするために入れます\n",
    "\n",
    "# 回路を描画\n",
    "qc.draw(output=\"mpl\")"
   ]
  },
  {
   "cell_type": "code",
   "execution_count": null,
   "metadata": {},
   "outputs": [],
   "source": [
    "backend = StatevectorSimulator()\n",
    "out_vector = backend.run(qc, shots=1).result().get_statevector() # set shots = 1\n",
    "\n",
    "plot_bloch_multivector(out_vector)"
   ]
  },
  {
   "cell_type": "code",
   "execution_count": null,
   "metadata": {},
   "outputs": [],
   "source": [
    "# 量子もつれを作ります\n",
    "qc.h(1)\n",
    "qc.cx(1, 2)\n",
    "qc.barrier()    #回路を見やすくするために入れます\n",
    "\n",
    "# 回路を描画\n",
    "qc.draw(output=\"mpl\")"
   ]
  },
  {
   "cell_type": "code",
   "execution_count": null,
   "metadata": {},
   "outputs": [],
   "source": [
    "# AliceがCNOTとHで、自分の量子ビット2つをエンタングルさせ測定します。\n",
    "qc.cx(0, 1)\n",
    "qc.h(0)\n",
    "qc.barrier()\n",
    "qc.measure(0, 0)\n",
    "qc.measure(1, 1)\n",
    "\n",
    "# 回路を描画\n",
    "qc.draw(output=\"mpl\")"
   ]
  },
  {
   "cell_type": "code",
   "execution_count": null,
   "metadata": {},
   "outputs": [],
   "source": [
    "#Aliceが測定結果をBobに送り、Bobが結果に合わせて操作します\n",
    "with qc.if_test((0, 1)): # 古典レジスター0の値が1だったらZゲートをq2にかける\n",
    "    qc.z(2)\n",
    "with qc.if_test((1, 1)): # 古典レジスター1の値が1だったらXゲートをq2にかける\n",
    "    qc.x(2)\n",
    "    \n",
    "qc.draw(output=\"mpl\")"
   ]
  },
  {
   "cell_type": "markdown",
   "metadata": {},
   "source": [
    "量子テレポーテーション回路が完成しました。qubit2にqubit0の量子状態($R_x(\\pi/3)$)が転送されていることを確認しましょう。"
   ]
  },
  {
   "cell_type": "code",
   "execution_count": null,
   "metadata": {},
   "outputs": [],
   "source": [
    "backend = StatevectorSimulator()\n",
    "out_vector = backend.run(qc,shots=1).result().get_statevector()\n",
    "\n",
    "plot_bloch_multivector(out_vector)"
   ]
  },
  {
   "cell_type": "markdown",
   "metadata": {},
   "source": [
    "Bobに暗号の量子状態が転送されたことを確認するために、最後にBobの量子ビットに逆向きのX軸回転を適用して、シミュレーターで実験し、測定結果が0になることを確認します。"
   ]
  },
  {
   "cell_type": "code",
   "execution_count": null,
   "metadata": {},
   "outputs": [],
   "source": [
    "# 3量子ビット回路を用意\n",
    "qc = QuantumCircuit(3,3)  \n",
    "\n",
    "# Aliceのもつ未知の量子状態ψをRxで作ります。角度はπ/3にしました。\n",
    "qc.rx(np.pi/3,0)\n",
    "qc.barrier()    #回路を見やすくするために入れます\n",
    "\n",
    "# 量子もつれを作ります\n",
    "qc.h(1)\n",
    "qc.cx(1, 2)\n",
    "qc.barrier()\n",
    "\n",
    "# AliceがCNOTとHで自分の量子ビット2つをエンタングルさせ測定します。\n",
    "qc.cx(0, 1)\n",
    "qc.h(0)\n",
    "qc.barrier()\n",
    "qc.measure(0, 0)\n",
    "qc.measure(1, 1)\n",
    "\n",
    "#Aliceが測定結果をBobに送り、Bobが結果に合わせて操作します\n",
    "with qc.if_test((0, 1)): # 古典レジスター0の値が1だったらZゲートをq2にかける\n",
    "    qc.z(2)\n",
    "with qc.if_test((1, 1)): # 古典レジスター1の値が1だったらXゲートをq2にかける\n",
    "    qc.x(2)\n",
    "\n",
    "# 未知の量子状態ψの逆ゲートをかけて０が測定できるか確かめます\n",
    "qc.rx(-np.pi/3, 2)    \n",
    "qc.measure(2, 2)\n",
    "\n",
    "qc.draw(output=\"mpl\")"
   ]
  },
  {
   "cell_type": "code",
   "execution_count": null,
   "metadata": {},
   "outputs": [],
   "source": [
    "# シミュレーターで実験\n",
    "backend = AerSimulator()\n",
    "\n",
    "# Samplerで実行\n",
    "sampler = SamplerV2(backend)\n",
    "job = sampler.run([qc])\n",
    "result = job.result()\n",
    "\n",
    "\n",
    "#  測定された回数を表示\n",
    "counts = result[0].data.c.get_counts()\n",
    "print(counts)\n",
    "\n",
    "# ヒストグラムで測定された確率をプロット\n",
    "plot_histogram(counts)"
   ]
  },
  {
   "cell_type": "markdown",
   "metadata": {},
   "source": [
    "qiskitのビット配列は右端が0なので、Bobのビット(qubit 2)は左端です。左端のビットが全て0になっていることが確認できましたか？"
   ]
  },
  {
   "cell_type": "markdown",
   "metadata": {},
   "source": [
    "## 実デバイスでの実行\n",
    "\n",
    "実デバイスで上記の実験を行ってみましょう。（量子計算の途中の測定結果を使ってさらに計算を続ける「動的回路」は、昨年末に実装されたばかりの新機能です！）"
   ]
  },
  {
   "cell_type": "code",
   "execution_count": null,
   "metadata": {},
   "outputs": [],
   "source": [
    "# 初めて実行する場合、またはGoogle Colab で行う場合は、次の「#」を削除して、https://quantum.ibm.com/ の API Tokenをコピペして、実行します。\n",
    "# QiskitRuntimeService.save_account(channel='ibm_quantum', instance='ibm-q/open/main', token='<IBM Quantum API key>')\n",
    "\n",
    "service = QiskitRuntimeService()\n",
    "service.backends()"
   ]
  },
  {
   "cell_type": "code",
   "execution_count": null,
   "metadata": {},
   "outputs": [],
   "source": [
    "# 以下でデバイスを指定できます。\n",
    "backend = service.backend('ibm_brisbane')"
   ]
  },
  {
   "cell_type": "code",
   "execution_count": null,
   "metadata": {},
   "outputs": [],
   "source": [
    "#一番空いているバックエンドを自動的に選択することもできます\n",
    "backend = service.least_busy(operational=True)\n",
    "print(\"最も空いているバックエンドは: \", backend)"
   ]
  },
  {
   "cell_type": "code",
   "execution_count": null,
   "metadata": {},
   "outputs": [],
   "source": [
    "# 回路を実機のバックエンドでの実行に最適な回路に変換します\n",
    "pm = generate_preset_pass_manager(backend=backend, optimization_level=3)\n",
    "isa_circuit = pm.run(qc)\n",
    "isa_circuit.draw(\"mpl\", idle_wires=False)"
   ]
  },
  {
   "cell_type": "code",
   "execution_count": null,
   "metadata": {},
   "outputs": [],
   "source": [
    "# Samplerで実行します\n",
    "sampler = SamplerV2(backend)\n",
    "job = sampler.run([isa_circuit])\n",
    "\n",
    "print(\"job id:\", job.job_id()) # job idの確認"
   ]
  },
  {
   "cell_type": "code",
   "execution_count": null,
   "metadata": {},
   "outputs": [],
   "source": [
    "# ジョブの実行状態を確認します\n",
    "#job = service.job(job.job_id())\n",
    "job = service.job(\"上に出力された自分のjob_idを入れる\") # 上に出力された自分のjob_idを入れて実行してください。\n",
    "job.status()"
   ]
  },
  {
   "cell_type": "markdown",
   "metadata": {},
   "source": [
    "'DONE' と表示されたら、以下で結果を確認します。"
   ]
  },
  {
   "cell_type": "code",
   "execution_count": null,
   "metadata": {},
   "outputs": [],
   "source": [
    "### DONEになってから実行します ###\n",
    "result = job.result()\n",
    "print(f\" > Counts: {result[0].data.c.get_counts()}\")"
   ]
  },
  {
   "cell_type": "code",
   "execution_count": null,
   "metadata": {},
   "outputs": [],
   "source": [
    "plot_histogram(result[0].data.c.get_counts())"
   ]
  },
  {
   "cell_type": "markdown",
   "metadata": {},
   "source": [
    "Qiskitのビット配列は右端が0なので、Bobのビット(qubit 2)は左端です。Bobのビットの結果のみ抜き出します。"
   ]
  },
  {
   "cell_type": "code",
   "execution_count": null,
   "metadata": {},
   "outputs": [],
   "source": [
    "from qiskit.result import marginal_counts\n",
    "bobs_qubit = 2\n",
    "bobs_counts = marginal_counts(result[0].data.c.get_counts(), [bobs_qubit])\n",
    "plot_histogram(bobs_counts)"
   ]
  },
  {
   "cell_type": "markdown",
   "metadata": {},
   "source": [
    "## 演習\n",
    "\n",
    "量子テレポーテーション回路を自分で組んで表示してみましょう。<br>\n",
    "今回は、未知の量子状態をY軸回転ゲート(`ry`を使います。角度は自由に決めます。)で作ってみましょう。<br>\n",
    "Bobに未知の量子状態が転送されたことを確認するために、最後にBobの量子ビットに逆向きのY軸回転(角度にマイナスをつけます)を適用して、シミュレーターで実験し、測定結果が0になることを確認しましょう。\n",
    "\n",
    "時間に余裕がある方は、実デバイスでも上記の実験を行ってみましょう。"
   ]
  },
  {
   "cell_type": "code",
   "execution_count": null,
   "metadata": {},
   "outputs": [],
   "source": [
    "# 3量子ビット回路を用意\n",
    "qc = QuantumCircuit(3,3)    \n",
    "\n",
    "##量子テレポーテーションのコードを作ってください##\n",
    "# Aliceのもつ未知の量子状態ψをRyで作ります。\n",
    "\n",
    "\n",
    "# 量子もつれを作ります\n",
    "\n",
    "\n",
    "# AliceがCNOTとHでψと自分のEPRペアをエンタングルさせ測定します。\n",
    "\n",
    "\n",
    "#Aliceが測定結果をBobに送り、Bobが結果に合わせて操作します\n",
    "\n",
    "\n",
    "# 未知の量子状態ψの逆向きの演算をかけて０が測定できるか確かめます\n",
    "\n",
    "\n",
    "# 回路を描画\n",
    "qc.draw(output=\"mpl\")"
   ]
  },
  {
   "cell_type": "code",
   "execution_count": null,
   "metadata": {},
   "outputs": [],
   "source": [
    "# シミュレーターで実験の際に使うコード例\n",
    "backend = AerSimulator()\n",
    "\n",
    "# Samplerで実行\n",
    "sampler = SamplerV2(backend)\n",
    "job = sampler.run([qc])\n",
    "result = job.result()\n",
    "\n",
    "#  測定された回数を表示\n",
    "counts = result[0].data.c.get_counts()\n",
    "print(counts)\n",
    "\n",
    "# ヒストグラムで測定された確率をプロット\n",
    "plot_histogram(counts)"
   ]
  },
  {
   "cell_type": "code",
   "execution_count": null,
   "metadata": {},
   "outputs": [],
   "source": [
    "# Bobのビットの結果のみ抜き出します\n",
    "bobs_qubit = 2\n",
    "bobs_counts = marginal_counts(result[0].data.c.get_counts(), [bobs_qubit])\n",
    "plot_histogram(bobs_counts)"
   ]
  },
  {
   "cell_type": "code",
   "execution_count": null,
   "metadata": {},
   "outputs": [],
   "source": [
    "import qiskit\n",
    "qiskit.__version__"
   ]
  }
 ],
 "metadata": {
  "kernelspec": {
   "display_name": "Python 3 (ipykernel)",
   "language": "python",
   "name": "python3"
  },
  "language_info": {
   "codemirror_mode": {
    "name": "ipython",
    "version": 3
   },
   "file_extension": ".py",
   "mimetype": "text/x-python",
   "name": "python",
   "nbconvert_exporter": "python",
   "pygments_lexer": "ipython3",
   "version": "3.12.3"
  }
 },
 "nbformat": 4,
 "nbformat_minor": 4
}
