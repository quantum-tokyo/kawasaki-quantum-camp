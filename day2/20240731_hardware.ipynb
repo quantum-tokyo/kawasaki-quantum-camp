{
 "cells": [
  {
   "cell_type": "markdown",
   "id": "8fe3ca32",
   "metadata": {},
   "source": [
    "Kawasaki Quantum Summer Camp 2024\n",
    "\n",
    "# 量子ハードウェア\n",
    "\n",
    "\n",
    "Kifumi Numata, IBM Quantum (Jul 31, 2024)"
   ]
  },
  {
   "cell_type": "markdown",
   "id": "1a7daab9-bece-49d1-bbef-51d4076b990c",
   "metadata": {},
   "source": [
    "Google Colab で行う場合は、次のセルの「#」を削除して実行します。"
   ]
  },
  {
   "cell_type": "code",
   "execution_count": null,
   "id": "7abf7b79-14e0-4955-b925-11c9b91df0a9",
   "metadata": {},
   "outputs": [],
   "source": [
    "#!pip install qiskit qiskit-ibm-runtime qiskit-aer qiskit[visualization]"
   ]
  },
  {
   "cell_type": "markdown",
   "id": "ec0cd7d8-bf01-4b0f-b22d-dd5b7d8a1d1a",
   "metadata": {},
   "source": [
    "qBraid で行う場合は、右上の「Python 3[Default]」をクリックして「Python 3[QDC24]」を選択し、次のセルの「#」を削除して実行したあと、上部の「Kernel」→「Restart Kernel...」からカーネルをリスタートしてください。"
   ]
  },
  {
   "cell_type": "code",
   "execution_count": null,
   "id": "3f20a060-f49e-48b2-b1d7-9fe92fe2a22e",
   "metadata": {},
   "outputs": [],
   "source": [
    "#!pip install pylatexenc\n",
    "#!sudo apt install graphviz --yes\n",
    "#!pip install seaborn"
   ]
  },
  {
   "cell_type": "code",
   "execution_count": null,
   "id": "798d0ab4-34f5-4c64-83f0-02ef5149e6f3",
   "metadata": {},
   "outputs": [],
   "source": [
    "import matplotlib.pyplot as plt\n",
    "import numpy as np\n",
    "import rustworkx as rx\n",
    "import statistics\n",
    "\n",
    "from qiskit_ibm_runtime import QiskitRuntimeService"
   ]
  },
  {
   "cell_type": "markdown",
   "id": "2cc2f2a3-947f-439b-b683-911539f1e6f2",
   "metadata": {},
   "source": [
    "### バックエンドの情報をみる\n",
    "\n",
    "Qiskitは、量子デバイスに関する情報を取得するためのAPI ([アプリケーション・プログラミング・インタフェース](https://ja.wikipedia.org/wiki/%E3%82%A2%E3%83%97%E3%83%AA%E3%82%B1%E3%83%BC%E3%82%B7%E3%83%A7%E3%83%B3%E3%83%97%E3%83%AD%E3%82%B0%E3%83%A9%E3%83%9F%E3%83%B3%E3%82%B0%E3%82%A4%E3%83%B3%E3%82%BF%E3%83%95%E3%82%A7%E3%83%BC%E3%82%B9))を提供しています。デバイスとのインターフェースである、Backend命令を使用を使って、IBM Quantum Platformの[デバイスカード](https://quantum.ibm.com/services/resources)に表示される情報の一部を取得してみましょう。以下では、\"ibm_kyiv\" を選びます。"
   ]
  },
  {
   "cell_type": "code",
   "execution_count": null,
   "id": "b92ad1bf-6ad4-420c-8a3a-5bfc488d5923",
   "metadata": {},
   "outputs": [],
   "source": [
    "# Google Colab で行う場合は、次の「#」を削除して、https://quantum.ibm.com/ の API Tokenをコピペして、実行します。\n",
    "# QiskitRuntimeService.save_account(channel='ibm_quantum', instance='ibm-q/open/main', token='<IBM Quantum API key>')\n",
    "\n",
    "service = QiskitRuntimeService()\n",
    "backend = service.backend(\"ibm_kyiv\")"
   ]
  },
  {
   "cell_type": "markdown",
   "id": "c082da02-fcc5-4506-b4fe-9015e99e63dc",
   "metadata": {},
   "source": [
    "まず、デバイスに関する基本的な情報から見てみます。"
   ]
  },
  {
   "cell_type": "code",
   "execution_count": null,
   "id": "33c39786-d44a-47bb-8245-72eb6b97e394",
   "metadata": {},
   "outputs": [],
   "source": [
    "print(\n",
    "    f\"\"\"\n",
    "{backend.name}, {backend.num_qubits} qubits\n",
    "processor type = {backend.processor_type} \n",
    "basis gates = {backend.basis_gates}\n",
    "\"\"\")"
   ]
  },
  {
   "cell_type": "markdown",
   "id": "31675447-1a26-4168-a038-09cc7535e037",
   "metadata": {},
   "source": [
    "#### 演習 1\n",
    "\n",
    "別のデバイス \"ibm_sherbrooke\" の基本情報を取得してみてください。"
   ]
  },
  {
   "cell_type": "code",
   "execution_count": null,
   "id": "f29afd7e-af40-4cd5-bc0e-a864663a616d",
   "metadata": {},
   "outputs": [],
   "source": [
    "an_eagle = service.backend(\"ibm_sherbrooke\") \n",
    "\n",
    "# ここにコードを入れます\n",
    "print(\n",
    "    f\"\"\"\n",
    "\n",
    "\n",
    "\n",
    "\"\"\")"
   ]
  },
  {
   "cell_type": "markdown",
   "id": "08fef064-3fc6-4c27-9288-a2e3aa7f5d08",
   "metadata": {},
   "source": [
    "### カップリング・マップ\n",
    "\n",
    "次にデバイスのカップリング・マップを表示します。ご覧のように、ノード（頂点）が量子ビットで、番号が振られています。エッジ（辺）は、2量子ビットのエンタングルゲートが直接適用できるペアを示しています。このトポロジーはヘビーヘックス格子と呼ばれます。\n"
   ]
  },
  {
   "cell_type": "code",
   "execution_count": null,
   "id": "dd7cf5c0-2b4d-445e-8bd8-1baf189efdd3",
   "metadata": {},
   "outputs": [],
   "source": [
    "backend.coupling_map.draw()"
   ]
  },
  {
   "cell_type": "markdown",
   "id": "881a5350-282c-4a89-b9e2-ac6bf61c6571",
   "metadata": {},
   "source": [
    "### 量子ビットの特性\n",
    "\n",
    "Eagle デバイスには127個の量子ビットがあります。そのいくつかの特性(Properties)を`qubit_properties`を使って、求めてみましょう。0~4までの5量子ビットのみ表示します。"
   ]
  },
  {
   "cell_type": "code",
   "execution_count": null,
   "id": "9bcb9ce2-5ea8-487b-a7ac-a2956e8cbc34",
   "metadata": {},
   "outputs": [],
   "source": [
    "for qn in range(backend.num_qubits):\n",
    "    if (qn>=5):\n",
    "        break\n",
    "    print(f\"{qn}: {backend.qubit_properties(qn)}\")"
   ]
  },
  {
   "cell_type": "markdown",
   "id": "be601762",
   "metadata": {},
   "source": [
    "各量子ビットごとのT1時間、T2時間、共鳴周波数が確認できました。    \n",
    "量子ビットのT1時間の[中央値](https://ja.wikipedia.org/wiki/%E4%B8%AD%E5%A4%AE%E5%80%A4) (Median)を計算してみましょう。[IBM Quantum Platfrom](https://quantum.ibm.com/services/resources)のデバイスの結果と比較してみてください。"
   ]
  },
  {
   "cell_type": "code",
   "execution_count": null,
   "id": "9333f42f-90bb-4a0b-82d3-6b9eb7e8c7e4",
   "metadata": {},
   "outputs": [],
   "source": [
    "t1s = [backend.qubit_properties(qq).t1 for qq in range(backend.num_qubits)] #t1をリスト化\n",
    "t1_m = statistics.median(t1s)*10**6 #中央値を求め、10の６乗をかけて単位をμsに。\n",
    "\n",
    "print(f'Median T1: {t1_m:.2f}μs') #有効数字小数点以下２桁"
   ]
  },
  {
   "cell_type": "markdown",
   "id": "01695904-2cb2-4f1d-9396-82cc94429d81",
   "metadata": {},
   "source": [
    "#### 演習 2\n",
    "\n",
    "量子ビットのT2時間の中央値を計算してください。"
   ]
  },
  {
   "cell_type": "code",
   "execution_count": null,
   "id": "9d14c25c-b829-447b-b85d-72bc4aed49ac",
   "metadata": {},
   "outputs": [],
   "source": [
    "t2s = 　 #t2をリスト化\n",
    "t2_m = 　 #中央値を求め、10の６乗をかけて単位をμsに。\n",
    "\n",
    "print(f'Median T2: {t2_m:.2f}μs') #有効数字小数点以下２桁"
   ]
  },
  {
   "cell_type": "markdown",
   "id": "7bdf8873-359e-4b03-98af-ede989a4a96d",
   "metadata": {},
   "source": [
    "###  ゲートエラーと読み出しエラー\n",
    "\n",
    "次にゲートエラーについて見てみます。まずはじめに、backendのtargetのデータ構造を調べます。演算の名前をキーとする[辞書](https://utokyo-ipp.github.io/3/3-1.html)になっています。"
   ]
  },
  {
   "cell_type": "code",
   "execution_count": null,
   "id": "c9188662",
   "metadata": {},
   "outputs": [],
   "source": [
    "target = backend.target\n",
    "target.keys()"
   ]
  },
  {
   "cell_type": "markdown",
   "id": "46e3a8ac-65dc-4973-bd72-820676727f4e",
   "metadata": {},
   "source": [
    "その値も辞書です。'sx' 演算の値（辞書）の項目を5個目まで見てみましょう。"
   ]
  },
  {
   "cell_type": "code",
   "execution_count": null,
   "id": "c9b30ede-c00f-4e18-bb72-3bfc06e6afa5",
   "metadata": {},
   "outputs": [],
   "source": [
    "for i, qq in enumerate(target['sx']):\n",
    "    if (i>=5):\n",
    "        break\n",
    "    print(i, qq, target['sx'][qq])"
   ]
  },
  {
   "cell_type": "markdown",
   "id": "86d95ab8-7e33-4cad-b23b-70a82fcc36ef",
   "metadata": {},
   "source": [
    "演算の持続時間(duration)、エラー率、キャリブレーションの形式をみることができました。"
   ]
  },
  {
   "cell_type": "markdown",
   "id": "5a322b40-bbf0-4b54-a151-9ba52f7bffe1",
   "metadata": {},
   "source": [
    "'ecr' 演算と 'measure' 演算についても同じようにみてみましょう。"
   ]
  },
  {
   "cell_type": "code",
   "execution_count": null,
   "id": "f9cac843-4789-4ca3-84bd-0a4c165820a9",
   "metadata": {},
   "outputs": [],
   "source": [
    "for i, edge in enumerate(target['ecr']):\n",
    "    if (i>=5):\n",
    "        break\n",
    "    print(i, edge, target['ecr'][edge])"
   ]
  },
  {
   "cell_type": "code",
   "execution_count": null,
   "id": "af36138a",
   "metadata": {},
   "outputs": [],
   "source": [
    "for i, qq in enumerate(target['measure']):\n",
    "    if (i>=5):\n",
    "        break\n",
    "    print(i, qq, target['measure'][qq])"
   ]
  },
  {
   "cell_type": "markdown",
   "id": "5d0c106a-3641-42ed-9230-7dc6dbd47252",
   "metadata": {},
   "source": [
    "それそれの error の値から、読み出し(measure)エラーは2量子ビット演算(ecr)のエラーよりも大きくなる傾向があり、2量子ビット演算(ecr)のエラーは、1量子ビット演算(sx)のエラーよりも大きくなる傾向があることが分かります。\n",
    "\n",
    "データ構造を理解したところで、'sx' ゲートと 'ecr' ゲートのエラーの中央値を計算しましょう。ここでも、[IBM Quantum Platfrom](https://quantum.ibm.com/services/resources) のデバイスで示された結果と比較してください。"
   ]
  },
  {
   "cell_type": "code",
   "execution_count": null,
   "id": "6d1c60fc-d515-4ff3-bbca-a6518b405998",
   "metadata": {},
   "outputs": [],
   "source": [
    "sx_errors = [inst_prop.error for inst_prop in target['sx'].values()] #sxゲートエラーをリスト化\n",
    "sx_errors_m = statistics.median(sx_errors) #中央値を計算\n",
    "\n",
    "print(f'Median SX error: {sx_errors_m:.3e}μs') #有効数字 小数点以下指数表示で3桁"
   ]
  },
  {
   "cell_type": "code",
   "execution_count": null,
   "id": "e30b799e-c10b-40a9-ae43-5032e8666058",
   "metadata": {},
   "outputs": [],
   "source": [
    "ecr_errors = [inst_prop.error for inst_prop in target['ecr'].values()] #ecrゲートエラーをリスト化\n",
    "ecr_errors_m = statistics.median(ecr_errors) #中央値を計算\n",
    "\n",
    "print(f'Median ECR error: {ecr_errors_m:.3e}μs') #有効数字 小数点以下指数表示で3桁"
   ]
  },
  {
   "cell_type": "markdown",
   "id": "5b9b9d0a-d966-4403-bc92-b2a97f06b5d2",
   "metadata": {},
   "source": [
    "#### 演習 3\n",
    "\n",
    "デバイスの読み出しエラーの中央値を計算してください。"
   ]
  },
  {
   "cell_type": "code",
   "execution_count": null,
   "id": "273c7362-cc65-4b7b-b74c-185ff9bbea54",
   "metadata": {},
   "outputs": [],
   "source": [
    "# コードをここに書いてください\n",
    "meas_errors =   #measureエラーをリスト化\n",
    "meas_errors_m =  #中央値を計算\n",
    "\n",
    "print(f'Median readout error: {meas_errors_m:.3e}') #有効数字 小数点以下指数表示で3桁"
   ]
  },
  {
   "cell_type": "markdown",
   "id": "6f288670-a05f-4286-a1f7-d1b45ba8f4c3",
   "metadata": {},
   "source": [
    "### パルス形状\n",
    "次に、InstructionPropertiesのcalibration（較正）の属性を見てみましょう。実は、命令のパルス形状を得ることができます。Qubit 0の 'sx' 命令をチェックしてみましょう。\n"
   ]
  },
  {
   "cell_type": "code",
   "execution_count": null,
   "id": "7e436ea8-9c91-425a-9de3-9fde51df8ab1",
   "metadata": {},
   "outputs": [],
   "source": [
    "print(backend.target[\"sx\"][(0, )].calibration)\n",
    "backend.target[\"sx\"][(0, )].calibration.draw()"
   ]
  },
  {
   "cell_type": "markdown",
   "id": "b878dca7-e6fa-4b47-baec-934f58a457b5",
   "metadata": {},
   "source": [
    "ここでみてきたことがらは、BackendとTargetでできることのほんの一例に過ぎません。\n",
    "\n",
    "さらに、[Qiskit Experiment](https://qiskit-extensions.github.io/qiskit-experiments/) を使えば、Qiskitを通して特性評価やキャリブレーション実験を行うことができますが、今回は扱いません。"
   ]
  },
  {
   "cell_type": "markdown",
   "id": "695ee4bd",
   "metadata": {},
   "source": [
    "## 付録 "
   ]
  },
  {
   "cell_type": "markdown",
   "id": "b538e8b5",
   "metadata": {},
   "source": [
    "Qiskit は、可視化機能が充実していることでも人気があります。回路の可視化、状態や分布の可視化、ターゲットデバイスの可視化ができます。回路の可視化、状態や分布の可視化は、このノートブックですでに使ってみたので、ターゲットデバイスの可視化の機能を以下で使ってみましょう。"
   ]
  },
  {
   "cell_type": "code",
   "execution_count": null,
   "id": "97fead46",
   "metadata": {},
   "outputs": [],
   "source": [
    "from qiskit.visualization import plot_gate_map\n",
    "\n",
    "plot_gate_map(backend, font_size=14)"
   ]
  },
  {
   "cell_type": "code",
   "execution_count": null,
   "id": "c9e05530",
   "metadata": {},
   "outputs": [],
   "source": [
    "from qiskit.visualization import plot_error_map\n",
    "\n",
    "plot_error_map(backend)"
   ]
  },
  {
   "cell_type": "code",
   "execution_count": null,
   "id": "22a48124-e6b4-4144-bee1-f01fa4c7ccbb",
   "metadata": {},
   "outputs": [],
   "source": [
    "import qiskit\n",
    "qiskit.__version__"
   ]
  },
  {
   "cell_type": "code",
   "execution_count": null,
   "id": "7afa4933-31ca-4d0a-b847-9ac15f709235",
   "metadata": {},
   "outputs": [],
   "source": []
  }
 ],
 "metadata": {
  "kernelspec": {
   "display_name": "Python 3 (ipykernel)",
   "language": "python",
   "name": "python3"
  },
  "language_info": {
   "codemirror_mode": {
    "name": "ipython",
    "version": 3
   },
   "file_extension": ".py",
   "mimetype": "text/x-python",
   "name": "python",
   "nbconvert_exporter": "python",
   "pygments_lexer": "ipython3",
   "version": "3.12.3"
  }
 },
 "nbformat": 4,
 "nbformat_minor": 5
}
