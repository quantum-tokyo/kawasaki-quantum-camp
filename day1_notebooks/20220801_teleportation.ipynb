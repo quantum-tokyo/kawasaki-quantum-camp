{
 "cells": [
  {
   "cell_type": "markdown",
   "metadata": {},
   "source": [
    "# 量子テレポーテーション\n",
    "\n",
    "\n",
    "Kifumi Numata (Aug 01, 2022)"
   ]
  },
  {
   "cell_type": "code",
   "execution_count": null,
   "metadata": {},
   "outputs": [],
   "source": [
    "# Qiskitライブラリーを導入\n",
    "from qiskit import *\n",
    "from qiskit.visualization import plot_histogram, plot_bloch_multivector\n",
    "\n",
    "import numpy as np\n",
    "import warnings\n",
    "warnings.filterwarnings(\"ignore\")"
   ]
  },
  {
   "cell_type": "code",
   "execution_count": null,
   "metadata": {},
   "outputs": [],
   "source": [
    "# 3量子ビット回路を用意\n",
    "qc = QuantumCircuit(3,3)    \n",
    "\n",
    "# Aliceのもつ暗号の量子状態ψを今回はRxで作ります\n",
    "qc.rx(np.pi/3,0)\n",
    "qc.barrier()    #回路を見やすくするために入れます\n",
    "\n",
    "# 回路を描画\n",
    "qc.draw(output=\"mpl\")"
   ]
  },
  {
   "cell_type": "code",
   "execution_count": null,
   "metadata": {},
   "outputs": [],
   "source": [
    "sim = Aer.get_backend('aer_simulator')\n",
    "qc_init = qc.copy()    # 量子回路をコピー\n",
    "qc_init.save_statevector()    # 測定前の状態ベクトルを保存\n",
    "out_vector = sim.run(qc_init).result().get_statevector()    # 実行して状態ベクトルを得る\n",
    "plot_bloch_multivector(out_vector)"
   ]
  },
  {
   "cell_type": "code",
   "execution_count": null,
   "metadata": {},
   "outputs": [],
   "source": [
    "# 量子もつれを作ります\n",
    "qc.h(1)\n",
    "qc.cx(1, 2)\n",
    "qc.barrier()    #回路を見やすくするために入れます\n",
    "\n",
    "# 回路を描画\n",
    "qc.draw(output=\"mpl\")"
   ]
  },
  {
   "cell_type": "code",
   "execution_count": null,
   "metadata": {},
   "outputs": [],
   "source": [
    "# AliceがCNOTとHで、自分の量子ビット2つをエンタングルさせ測定します。\n",
    "qc.cx(0, 1)\n",
    "qc.h(0)\n",
    "qc.barrier()\n",
    "qc.measure(0, 0)\n",
    "qc.measure(1, 1)\n",
    "\n",
    "# 回路を描画\n",
    "qc.draw(output=\"mpl\")"
   ]
  },
  {
   "cell_type": "code",
   "execution_count": null,
   "metadata": {},
   "outputs": [],
   "source": [
    "#Aliceが測定結果をBobに送り、Bobが結果に合わせて操作します\n",
    "qc.z(2).c_if(0, 1)    # 古典レジスター0の値が1だったらZゲートをq2にかける\n",
    "qc.x(2).c_if(1, 1)    # 古典レジスター1の値が1だったらXゲートをq2にかける\n",
    "\n",
    "# 回路を描画\n",
    "qc.draw(output=\"mpl\")"
   ]
  },
  {
   "cell_type": "markdown",
   "metadata": {},
   "source": [
    "量子テレポーテーション回路が完成しました。qubit2にqubit0の量子状態($R_x(\\pi/3)$)が転送されていることを確認しましょう。"
   ]
  },
  {
   "cell_type": "code",
   "execution_count": null,
   "metadata": {},
   "outputs": [],
   "source": [
    "sim = Aer.get_backend('aer_simulator')\n",
    "qc.save_statevector()\n",
    "out_vector = sim.run(qc).result().get_statevector()\n",
    "plot_bloch_multivector(out_vector)"
   ]
  },
  {
   "cell_type": "markdown",
   "metadata": {},
   "source": [
    "Bobに暗号の量子状態が転送されたことを確認するために、最後にBobの量子ビットに逆向きのX軸回転を適用して、QASMシミュレーターで実験し、測定結果が0になることを確認します。"
   ]
  },
  {
   "cell_type": "code",
   "execution_count": null,
   "metadata": {},
   "outputs": [],
   "source": [
    "# 3量子ビット回路を用意\n",
    "qc = QuantumCircuit(3,3)  \n",
    "\n",
    "# Aliceのもつ未知の量子状態ψをRxで作ります。角度はπ/3にしました。\n",
    "qc.rx(np.pi/3,0)\n",
    "qc.barrier()    #回路を見やすくするために入れます\n",
    "\n",
    "# 量子もつれを作ります\n",
    "qc.h(1)\n",
    "qc.cx(1, 2)\n",
    "qc.barrier()\n",
    "\n",
    "# AliceがCNOTとHで自分の量子ビット2つをエンタングルさせ測定します。\n",
    "qc.cx(0, 1)\n",
    "qc.h(0)\n",
    "qc.barrier()\n",
    "qc.measure(0, 0)\n",
    "qc.measure(1, 1)\n",
    "\n",
    "#Aliceが測定結果をBobに送り、Bobが結果に合わせて操作します\n",
    "qc.z(2).c_if(0, 1)    # 古典レジスター0の値が1だったらZゲートをq2にかける\n",
    "qc.x(2).c_if(1, 1)    # 古典レジスター1の値が1だったらXゲートをq2にかける\n",
    "\n",
    "# 未知の量子状態ψの逆ゲートをかけて０が測定できるか確かめます\n",
    "qc.rx(-np.pi/3, 2)    \n",
    "qc.measure(2, 2)\n",
    "\n",
    "qc.draw(output=\"mpl\")"
   ]
  },
  {
   "cell_type": "code",
   "execution_count": null,
   "metadata": {},
   "outputs": [],
   "source": [
    "# qasm_simulatorで実行して確認します\n",
    "backend = BasicAer.get_backend('qasm_simulator')\n",
    "counts = execute(qc, backend).result().get_counts()\n",
    "print(counts)\n",
    "\n",
    "from qiskit.visualization import plot_histogram\n",
    "plot_histogram(counts)"
   ]
  },
  {
   "cell_type": "markdown",
   "metadata": {},
   "source": [
    "qiskitのビット配列は右端が0なので、Bobのビット(qubit 2)は左端です。左端のビットが全て0になっていることが確認できましたか？"
   ]
  },
  {
   "cell_type": "markdown",
   "metadata": {},
   "source": [
    "## 演習\n",
    "\n",
    "Aliceの送る暗号の量子状態をY軸回転ゲート(ryを使います。角度は自由に決めます。)で作ってみましょう。最後に最後にBobの量子ビットに逆向きのY軸回転を適用して、QASMシミュレーターで実験し、測定結果が0になることを確認します。"
   ]
  },
  {
   "cell_type": "code",
   "execution_count": null,
   "metadata": {},
   "outputs": [],
   "source": []
  },
  {
   "cell_type": "markdown",
   "metadata": {},
   "source": [
    "## 実デバイスでの実行"
   ]
  },
  {
   "cell_type": "markdown",
   "metadata": {},
   "source": [
    "実デバイスで上記の実験を行ってみましょう。現在のところ、IBMの量子コンピューターは測定後の操作継続ができないので、少しコードを変えます。Aliceが測定結果をBobに送り、Bobが結果に合わせて操作するコードを部分を制御ゲートに変えています。"
   ]
  },
  {
   "cell_type": "code",
   "execution_count": null,
   "metadata": {},
   "outputs": [],
   "source": [
    "# 3量子ビット、1古典ビットの回路を用意\n",
    "qc = QuantumCircuit(3, 1)    \n",
    "\n",
    "# Aliceのもつ未知の量子状態ψをRxで作ります。角度はπ/5にしました。\n",
    "qc.rx(np.pi/5,0)\n",
    "qc.barrier()    #回路を見やすくするために入れます\n",
    "\n",
    "# 量子もつれを作ります\n",
    "qc.h(1)\n",
    "qc.cx(1, 2)\n",
    "qc.barrier()\n",
    "\n",
    "# AliceがCNOTとHで自分の量子ビット2つをエンタングルさせ測定します。\n",
    "qc.cx(0, 1)\n",
    "qc.h(0)\n",
    "qc.barrier()\n",
    "\n",
    "# Aliceの状態に合わせてBobが操作します（ここを変えています！）\n",
    "qc.cz(0,2)    # q0が1だったらq2にZゲートをかける\n",
    "qc.cx(1,2)    # q1が1だったらq2にZゲートをかける\n",
    "\n",
    "# 未知の量子状態ψの逆ゲートをかけて０が測定できるか確かめます\n",
    "qc.rx(-np.pi/5, 2)    \n",
    "qc.measure(2, 0)\n",
    "\n",
    "qc.draw(output=\"mpl\")"
   ]
  },
  {
   "cell_type": "code",
   "execution_count": null,
   "metadata": {},
   "outputs": [],
   "source": [
    "# 先にシミュレーターでコードが合っているか確認します\n",
    "t_qc = transpile(qc, sim)\n",
    "counts = sim.run(t_qc).result().get_counts()\n",
    "print(counts)\n",
    "plot_histogram(counts)"
   ]
  },
  {
   "cell_type": "markdown",
   "metadata": {},
   "source": [
    "実デバイスのプロバイダー情報を入力します。"
   ]
  },
  {
   "cell_type": "code",
   "execution_count": null,
   "metadata": {},
   "outputs": [],
   "source": [
    "# アカウント情報をロードして、使える量子デバイスを確認します\n",
    "IBMQ.load_account()\n",
    "# provider = IBMQ.get_provider(hub='ibm-q')   # Openプロバイダーの場合\n",
    "provider = IBMQ.get_provider(hub='ibm-q-education', group='ibm-3', project='kawasaki-camp')\n",
    "provider.backends()"
   ]
  },
  {
   "cell_type": "code",
   "execution_count": null,
   "metadata": {},
   "outputs": [],
   "source": [
    "#一番空いているバックエンドを自動的に選択します\n",
    "from qiskit.providers.ibmq import least_busy\n",
    "from qiskit.tools.monitor import job_monitor\n",
    "backend = least_busy(provider.backends(filters=lambda b: b.configuration().n_qubits >= 3 and\n",
    "                                   not b.configuration().simulator and b.status().operational==True))\n",
    "print(\"最も空いているバックエンドは: \", backend)"
   ]
  },
  {
   "cell_type": "code",
   "execution_count": null,
   "metadata": {},
   "outputs": [],
   "source": [
    "t_qc = transpile(qc, backend, optimization_level=3)\n",
    "job = backend.run(t_qc)    # 上記のバックエンドで実行します\n",
    "job_monitor(job)  # ジョブの実行状態を確認します"
   ]
  },
  {
   "cell_type": "code",
   "execution_count": null,
   "metadata": {},
   "outputs": [],
   "source": [
    "# 結果を確認します\n",
    "exp_result = job.result()\n",
    "exp_counts = exp_result.get_counts(qc)\n",
    "print(exp_counts)\n",
    "plot_histogram(exp_counts)"
   ]
  },
  {
   "cell_type": "code",
   "execution_count": null,
   "metadata": {},
   "outputs": [],
   "source": [
    "import qiskit.tools.jupyter\n",
    "%qiskit_version_table\n",
    "%qiskit_copyright"
   ]
  }
 ],
 "metadata": {
  "kernelspec": {
   "display_name": "Python 3",
   "language": "python",
   "name": "python3"
  },
  "language_info": {
   "codemirror_mode": {
    "name": "ipython",
    "version": 3
   },
   "file_extension": ".py",
   "mimetype": "text/x-python",
   "name": "python",
   "nbconvert_exporter": "python",
   "pygments_lexer": "ipython3",
   "version": "3.8.5"
  }
 },
 "nbformat": 4,
 "nbformat_minor": 4
}
