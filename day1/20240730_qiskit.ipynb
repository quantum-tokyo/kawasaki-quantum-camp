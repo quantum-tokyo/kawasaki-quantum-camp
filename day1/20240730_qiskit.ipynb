{
 "cells": [
  {
   "cell_type": "markdown",
   "metadata": {},
   "source": [
    "Kawasaki Quantum Summer Camp 2024\n",
    "\n",
    "# 量子コンピューター入門\n",
    "\n",
    "Kifumi Numata, IBM Quantum (Jul 30, 2024)"
   ]
  },
  {
   "cell_type": "markdown",
   "metadata": {},
   "source": [
    "Google Colab で行う場合は、次のセルの「#」を削除して実行します。"
   ]
  },
  {
   "cell_type": "code",
   "execution_count": null,
   "metadata": {},
   "outputs": [],
   "source": [
    "#!pip install qiskit qiskit-ibm-runtime qiskit-aer qiskit[visualization]"
   ]
  },
  {
   "cell_type": "markdown",
   "metadata": {},
   "source": [
    "qBraid で行う場合は、右上の「Python 3[Default]」をクリックして「Python 3[QDC24]」を選択し、次のセルの「#」を削除して実行したあと、上部の「Kernel」→「Restart Kernel...」からカーネルをリスタートしてください。"
   ]
  },
  {
   "cell_type": "code",
   "execution_count": null,
   "metadata": {},
   "outputs": [],
   "source": [
    "#!pip install pylatexenc\n",
    "#!sudo apt install graphviz --yes"
   ]
  },
  {
   "cell_type": "code",
   "execution_count": null,
   "metadata": {},
   "outputs": [],
   "source": [
    "# Qiskitライブラリーを導入\n",
    "from qiskit import QuantumCircuit\n",
    "from qiskit_aer import StatevectorSimulator, AerSimulator\n",
    "from qiskit.visualization import plot_bloch_multivector\n",
    "from qiskit_ibm_runtime import SamplerV2\n",
    "from qiskit.transpiler.preset_passmanagers import generate_preset_pass_manager\n",
    "from qiskit.visualization import plot_histogram\n",
    "from qiskit_ibm_runtime import QiskitRuntimeService\n",
    "\n",
    "# 描画のためのライブラリーを導入\n",
    "import matplotlib.pyplot as plt"
   ]
  },
  {
   "cell_type": "markdown",
   "metadata": {},
   "source": [
    "### 空の回路\n",
    "\n",
    "1量子ビット回路から始めます。セルを選択して「Shift」＋「Enter」で実行できます。"
   ]
  },
  {
   "cell_type": "code",
   "execution_count": null,
   "metadata": {},
   "outputs": [],
   "source": [
    "# １量子ビット回路を用意 \n",
    "qc = QuantumCircuit(1)\n",
    "\n",
    "qc.draw(output=\"mpl\")    # 回路を描画"
   ]
  },
  {
   "cell_type": "markdown",
   "metadata": {},
   "source": [
    "### Xゲート"
   ]
  },
  {
   "cell_type": "code",
   "execution_count": null,
   "metadata": {},
   "outputs": [],
   "source": [
    "qc = QuantumCircuit(1)    # １量子ビット回路を用意\n",
    "\n",
    "# Xゲートを0番目の量子ビットに操作します。\n",
    "qc.x(0)\n",
    "\n",
    "qc.draw(output=\"mpl\")    # 回路を描画"
   ]
  },
  {
   "cell_type": "code",
   "execution_count": null,
   "metadata": {
    "scrolled": true
   },
   "outputs": [],
   "source": [
    "# 状態ベクトルシミュレーターの実行\n",
    "backend = StatevectorSimulator()\n",
    "result = backend.run(qc).result().get_statevector(qc, decimals=3)\n",
    "\n",
    "# ブロッホ球の表示\n",
    "plot_bloch_multivector(result)"
   ]
  },
  {
   "cell_type": "markdown",
   "metadata": {},
   "source": [
    "### Hゲート"
   ]
  },
  {
   "cell_type": "code",
   "execution_count": null,
   "metadata": {},
   "outputs": [],
   "source": [
    "qc = QuantumCircuit(1)    # １量子ビット回路を用意 \n",
    "\n",
    "# Hゲートを0番目の量子ビットに操作します。\n",
    "qc.h(0)\n",
    "\n",
    "# 回路を描画\n",
    "qc.draw(output=\"mpl\")"
   ]
  },
  {
   "cell_type": "code",
   "execution_count": null,
   "metadata": {},
   "outputs": [],
   "source": [
    "# 状態ベクトルシミュレーターの実行\n",
    "backend = StatevectorSimulator()\n",
    "result = backend.run(qc).result().get_statevector(qc, decimals=3)\n",
    "\n",
    "# ブロッホ球の表示\n",
    "plot_bloch_multivector(result)"
   ]
  },
  {
   "cell_type": "markdown",
   "metadata": {},
   "source": [
    "### XゲートとHゲート"
   ]
  },
  {
   "cell_type": "code",
   "execution_count": null,
   "metadata": {},
   "outputs": [],
   "source": [
    "qc = QuantumCircuit(1)    # １量子ビット回路を用意 \n",
    "\n",
    "# Xゲートを0番目の量子ビットに操作します。\n",
    "qc.x(0)\n",
    "\n",
    "# 次にHゲートを0番目の量子ビットに操作します。\n",
    "qc.h(0)\n",
    "\n",
    "# 回路を描画\n",
    "qc.draw(output=\"mpl\")"
   ]
  },
  {
   "cell_type": "code",
   "execution_count": null,
   "metadata": {},
   "outputs": [],
   "source": [
    "# 状態ベクトルシミュレーターの実行\n",
    "backend = StatevectorSimulator()\n",
    "result = backend.run(qc).result().get_statevector(qc, decimals=3)\n",
    "\n",
    "# ブロッホ球の表示\n",
    "plot_bloch_multivector(result)"
   ]
  },
  {
   "cell_type": "markdown",
   "metadata": {},
   "source": [
    "### 1量子ビットゲートの書き方\n",
    "\n",
    "    qc.x(0)    # X軸の周りのPi回転\n",
    "    qc.y(0)    # Y軸の周りのPi回転\n",
    "    qc.z(0)    # Z軸の周りのPi回転\n",
    "    qc.s(0)    # Z軸の周りのPi/2回転\n",
    "    qc.sdg(0)  # Z軸の周りの-Pi/2回転\n",
    "    qc.h(0)    # Hゲート\n",
    "    qc.rx(theta, 0)    # X軸の周りのtheta回転\n",
    "    qc.ry(theta, 0)    # Y軸の周りのtheta回転\n",
    "    qc.rz(theta, 0)    # Z軸の周りのtheta回転"
   ]
  },
  {
   "attachments": {},
   "cell_type": "markdown",
   "metadata": {},
   "source": [
    "## 演習 1\n",
    "\n",
    "次の回路を作ってブロッホ球を表示してみましょう。\n",
    "\n",
    "1-1)\n",
    "\n",
    "![image.jpg](https://raw.githubusercontent.com/quantum-tokyo/kawasaki-quantum-camp/refs/heads/main/day1/exe1_1.jpg)\n",
    "\n",
    "1-2)\n",
    "\n",
    "![image.jpg](https://raw.githubusercontent.com/quantum-tokyo/kawasaki-quantum-camp/refs/heads/main/day1/exe1_2.jpg)"
   ]
  },
  {
   "cell_type": "code",
   "execution_count": null,
   "metadata": {},
   "outputs": [],
   "source": [
    "# 1-1)\n",
    "qc = QuantumCircuit(1)    # １量子ビット回路を用意 \n",
    "\n",
    "# Xゲートを0番目の量子ビットに操作します。\n",
    "qc.\n",
    "\n",
    "# Hゲートを0番目の量子ビットに操作します。\n",
    "qc.\n",
    "\n",
    "# Zゲートを0番目の量子ビットに操作します。\n",
    "qc.\n",
    "\n",
    "# 回路を描画\n",
    "qc.draw(output=\"mpl\")"
   ]
  },
  {
   "cell_type": "code",
   "execution_count": null,
   "metadata": {},
   "outputs": [],
   "source": [
    "# 状態ベクトルシミュレーターの実行\n",
    "backend = StatevectorSimulator()\n",
    "result = backend.run(qc).result().get_statevector(qc, decimals=3)\n",
    "\n",
    "# ブロッホ球の表示\n",
    "plot_bloch_multivector(result)"
   ]
  },
  {
   "cell_type": "code",
   "execution_count": null,
   "metadata": {},
   "outputs": [],
   "source": [
    "# 1-2)\n",
    "qc = QuantumCircuit(1)    # １量子ビット回路を用意 \n",
    "\n",
    "# Hゲートを0番目の量子ビットに操作します。\n",
    "\n",
    "# Zゲートを0番目の量子ビットに操作します。\n",
    "\n",
    "# Hゲートを0番目の量子ビットに操作します。\n",
    "\n",
    "# 回路を描画\n",
    "qc.draw(output=\"mpl\")"
   ]
  },
  {
   "cell_type": "code",
   "execution_count": null,
   "metadata": {},
   "outputs": [],
   "source": [
    "# 状態ベクトルシミュレーターの実行\n",
    "backend = StatevectorSimulator()\n",
    "result = backend.run(qc).result().get_statevector(qc, decimals=3)\n",
    "\n",
    "# ブロッホ球の表示\n",
    "plot_bloch_multivector(result)"
   ]
  },
  {
   "cell_type": "markdown",
   "metadata": {},
   "source": [
    "### 2量子ビット回路"
   ]
  },
  {
   "cell_type": "code",
   "execution_count": null,
   "metadata": {},
   "outputs": [],
   "source": [
    "qc = QuantumCircuit(2)    # 2量子ビット回路を用意\n",
    "\n",
    "qc.x(0)\n",
    "qc.h(1)\n",
    "\n",
    "qc.draw(output=\"mpl\")"
   ]
  },
  {
   "cell_type": "code",
   "execution_count": null,
   "metadata": {},
   "outputs": [],
   "source": [
    "# 状態ベクトルシミュレーターの実行\n",
    "backend = StatevectorSimulator()\n",
    "result = backend.run(qc).result().get_statevector(qc, decimals=3)\n",
    "\n",
    "# ブロッホ球の表示\n",
    "plot_bloch_multivector(result)"
   ]
  },
  {
   "cell_type": "markdown",
   "metadata": {},
   "source": [
    "### エンタングルメント"
   ]
  },
  {
   "cell_type": "code",
   "execution_count": null,
   "metadata": {},
   "outputs": [],
   "source": [
    "# ２量子ビット回路を作成します。\n",
    "qc = QuantumCircuit(2,2)    # 2量子ビット, 2古典ビットレジスター\n",
    "\n",
    "# ゲートを適用します。\n",
    "qc.h(0)\n",
    "qc.cx(0,1)    # 制御NOTゲート\n",
    "\n",
    "# 測定ゲートを追加\n",
    "qc.measure(0,0)    # 量子ビットq0を測定して、古典レジスターc0に入れます\n",
    "qc.measure(1,1)    # 量子ビットq1を測定して、古典レジスターc1に入れます\n",
    "\n",
    "# 回路を描画\n",
    "qc.draw(output=\"mpl\")"
   ]
  },
  {
   "cell_type": "code",
   "execution_count": null,
   "metadata": {},
   "outputs": [],
   "source": [
    "# シミュレーターで実験\n",
    "backend = AerSimulator()\n",
    "sampler = SamplerV2(backend)\n",
    "job = sampler.run([qc])\n",
    "result = job.result()\n",
    "\n",
    "#  測定された回数を表示\n",
    "counts = result[0].data.c.get_counts()\n",
    "print(counts)\n",
    "\n",
    "# ヒストグラムで測定された確率をプロット\n",
    "plot_histogram( counts )"
   ]
  },
  {
   "cell_type": "code",
   "execution_count": null,
   "metadata": {},
   "outputs": [],
   "source": [
    "# 初めて実行する場合は、認証情報をディスクに保存します：\n",
    "# https://quantum.ibm.com/ のAPI Tokenをコピペします\n",
    "# QiskitRuntimeService.save_account(channel='ibm_quantum', instance='ibm-q/open/main', token='<IBM Quantum API key>')\n",
    "\n",
    "service = QiskitRuntimeService()\n",
    "service.backends()"
   ]
  },
  {
   "cell_type": "code",
   "execution_count": null,
   "metadata": {},
   "outputs": [],
   "source": [
    "# 以下でデバイスを指定できます。\n",
    "backend = service.backend('ibm_kyiv')  # 例）ibm_kyivを使う場合"
   ]
  },
  {
   "cell_type": "code",
   "execution_count": null,
   "metadata": {},
   "outputs": [],
   "source": [
    "#一番空いているバックエンドを自動的に選択することもできます\n",
    "backend = service.least_busy(operational=True)\n",
    "print(\"最も空いているバックエンドは: \", backend)"
   ]
  },
  {
   "cell_type": "code",
   "execution_count": null,
   "metadata": {},
   "outputs": [],
   "source": [
    "# 実機のバックエンドでの実行に最適な回路に変換します\n",
    "pm = generate_preset_pass_manager(backend=backend, optimization_level=1)\n",
    "isa_circuit = pm.run(qc)\n",
    "isa_circuit.draw(\"mpl\", idle_wires=False)"
   ]
  },
  {
   "cell_type": "code",
   "execution_count": null,
   "metadata": {},
   "outputs": [],
   "source": [
    "# Samplerで実行します\n",
    "sampler = SamplerV2(backend)\n",
    "job = sampler.run([isa_circuit])\n",
    "\n",
    "print(\"job id:\", job.job_id()) # 実行に時間がかかるのでjob_idを表示します"
   ]
  },
  {
   "cell_type": "code",
   "execution_count": null,
   "metadata": {},
   "outputs": [],
   "source": [
    "#job = service.job(job.job_id()) \n",
    "job = service.job(\"cte5m81y6ybg008fgx20\") \n",
    "job.status() # ジョブの実行状態を確認します"
   ]
  },
  {
   "cell_type": "markdown",
   "metadata": {},
   "source": [
    "上記のセルを何回か実行して、'DONE' が表示されたら、実機での実行が終わっているので、以下のセルを実行して結果を確認します。"
   ]
  },
  {
   "cell_type": "code",
   "execution_count": null,
   "metadata": {},
   "outputs": [],
   "source": [
    "### 'DONE'になってから実行します ###\n",
    "result = job.result()\n",
    "print(result[0].data.c.get_counts())"
   ]
  },
  {
   "cell_type": "code",
   "execution_count": null,
   "metadata": {},
   "outputs": [],
   "source": [
    "plot_histogram(result[0].data.c.get_counts())"
   ]
  },
  {
   "attachments": {},
   "cell_type": "markdown",
   "metadata": {},
   "source": [
    "実機での実行を待つ間に、演習に取り組んでみましょう。\n",
    "## 演習 2\n",
    "\n",
    "次の回路を作って量子シミュレーターで実行してみましょう。\n",
    "\n",
    "![image.jpg](https://raw.githubusercontent.com/quantum-tokyo/kawasaki-quantum-camp/refs/heads/main/day1/exe2.jpg)\n"
   ]
  },
  {
   "cell_type": "code",
   "execution_count": null,
   "metadata": {},
   "outputs": [],
   "source": [
    "# ２量子ビット回路を古典ビット含めて作成します。\n",
    "\n",
    "\n",
    "# ゲートを適用します。\n",
    "\n",
    "\n",
    "# 測定ゲートを追加\n",
    "\n",
    "\n",
    "# 回路を描画\n",
    "qc.draw(output=\"mpl\")"
   ]
  },
  {
   "cell_type": "code",
   "execution_count": null,
   "metadata": {},
   "outputs": [],
   "source": [
    "# シミュレーターで実験\n",
    "backend = AerSimulator()\n",
    "sampler = SamplerV2(backend)\n",
    "job = sampler.run([qc])\n",
    "result = job.result()\n",
    "\n",
    "#  測定された回数を表示\n",
    "counts = result[0].data.c.get_counts()\n",
    "print(counts)\n",
    "\n",
    "# ヒストグラムで測定された確率をプロット\n",
    "plot_histogram( counts )"
   ]
  },
  {
   "attachments": {},
   "cell_type": "markdown",
   "metadata": {},
   "source": [
    "## 演習 3\n",
    "\n",
    "さらに時間の余った人は、次の回路を作って量子シミュレーターで実行してみましょう。この回路は、３量子ビットのエンタングルメントを作る回路で、作られる状態は、GHZ状態と呼ばれています。\n",
    "\n",
    "![image.jpg](https://raw.githubusercontent.com/quantum-tokyo/kawasaki-quantum-camp/refs/heads/main/day1/exe3.jpg)"
   ]
  },
  {
   "cell_type": "code",
   "execution_count": null,
   "metadata": {},
   "outputs": [],
   "source": [
    "# 3量子ビット回路を古典ビット含めて作成します。\n",
    "\n",
    "\n",
    "# ゲートを適用します。\n",
    "\n",
    "\n",
    "# 測定ゲートを追加\n",
    "\n",
    "\n",
    "# 回路を描画\n",
    "qc.draw(output=\"mpl\")"
   ]
  },
  {
   "cell_type": "code",
   "execution_count": null,
   "metadata": {},
   "outputs": [],
   "source": [
    "# シミュレーターで実験\n",
    "backend = AerSimulator()\n",
    "sampler = SamplerV2(backend)\n",
    "job = sampler.run([qc])\n",
    "result = job.result()\n",
    "\n",
    "#  測定された回数を表示\n",
    "counts = result[0].data.c.get_counts()\n",
    "print(counts)\n",
    "\n",
    "# ヒストグラムで測定された確率をプロット\n",
    "plot_histogram( counts )"
   ]
  },
  {
   "cell_type": "code",
   "execution_count": null,
   "metadata": {},
   "outputs": [],
   "source": [
    "# Qiskitバージョンの確認\n",
    "import qiskit\n",
    "qiskit.__version__"
   ]
  },
  {
   "cell_type": "code",
   "execution_count": null,
   "metadata": {},
   "outputs": [],
   "source": []
  }
 ],
 "metadata": {
  "kernelspec": {
   "display_name": "Python 3 (ipykernel)",
   "language": "python",
   "name": "python3"
  },
  "language_info": {
   "codemirror_mode": {
    "name": "ipython",
    "version": 3
   },
   "file_extension": ".py",
   "mimetype": "text/x-python",
   "name": "python",
   "nbconvert_exporter": "python",
   "pygments_lexer": "ipython3",
   "version": "3.12.3"
  }
 },
 "nbformat": 4,
 "nbformat_minor": 4
}
