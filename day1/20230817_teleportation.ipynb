{
 "cells": [
  {
   "cell_type": "markdown",
   "metadata": {},
   "source": [
    "# 量子テレポーテーション\n",
    "\n",
    "\n",
    "Kifumi Numata (Aug 17, 2023)"
   ]
  },
  {
   "cell_type": "code",
   "execution_count": null,
   "metadata": {},
   "outputs": [],
   "source": [
    "# Qiskitライブラリーを導入\n",
    "from qiskit import *\n",
    "from qiskit.visualization import plot_histogram, plot_bloch_multivector\n",
    "\n",
    "import numpy as np"
   ]
  },
  {
   "cell_type": "code",
   "execution_count": null,
   "metadata": {},
   "outputs": [],
   "source": [
    "# 3量子ビット回路を用意\n",
    "qc = QuantumCircuit(3,3)    \n",
    "\n",
    "# Aliceのもつ暗号の量子状態ψを今回はRxで作ります\n",
    "qc.rx(np.pi/3,0)\n",
    "qc.barrier()    #回路を見やすくするために入れます\n",
    "\n",
    "# 回路を描画\n",
    "qc.draw(output=\"mpl\")"
   ]
  },
  {
   "cell_type": "code",
   "execution_count": null,
   "metadata": {},
   "outputs": [],
   "source": [
    "backend = Aer.get_backend('statevector_simulator')\n",
    "out_vector = backend.run(qc,shots=1).result().get_statevector() # set shots = 1\n",
    "\n",
    "plot_bloch_multivector(out_vector)"
   ]
  },
  {
   "cell_type": "code",
   "execution_count": null,
   "metadata": {},
   "outputs": [],
   "source": [
    "# 量子もつれを作ります\n",
    "qc.h(1)\n",
    "qc.cx(1, 2)\n",
    "qc.barrier()    #回路を見やすくするために入れます\n",
    "\n",
    "# 回路を描画\n",
    "qc.draw(output=\"mpl\")"
   ]
  },
  {
   "cell_type": "code",
   "execution_count": null,
   "metadata": {},
   "outputs": [],
   "source": [
    "# AliceがCNOTとHで、自分の量子ビット2つをエンタングルさせ測定します。\n",
    "qc.cx(0, 1)\n",
    "qc.h(0)\n",
    "qc.barrier()\n",
    "qc.measure(0, 0)\n",
    "qc.measure(1, 1)\n",
    "\n",
    "# 回路を描画\n",
    "qc.draw(output=\"mpl\")"
   ]
  },
  {
   "cell_type": "code",
   "execution_count": null,
   "metadata": {},
   "outputs": [],
   "source": [
    "#Aliceが測定結果をBobに送り、Bobが結果に合わせて操作します\n",
    "with qc.if_test((0, 1)): # 古典レジスター0の値が1だったらZゲートをq2にかける\n",
    "    qc.z(2)\n",
    "with qc.if_test((1, 1)): # 古典レジスター1の値が1だったらXゲートをq2にかける\n",
    "    qc.x(2)\n",
    "    \n",
    "qc.draw(output=\"mpl\")"
   ]
  },
  {
   "cell_type": "markdown",
   "metadata": {},
   "source": [
    "量子テレポーテーション回路が完成しました。qubit2にqubit0の量子状態($R_x(\\pi/3)$)が転送されていることを確認しましょう。"
   ]
  },
  {
   "cell_type": "code",
   "execution_count": null,
   "metadata": {},
   "outputs": [],
   "source": [
    "backend = Aer.get_backend('statevector_simulator')\n",
    "out_vector = backend.run(qc,shots=1).result().get_statevector()\n",
    "\n",
    "plot_bloch_multivector(out_vector)"
   ]
  },
  {
   "cell_type": "markdown",
   "metadata": {},
   "source": [
    "Bobに暗号の量子状態が転送されたことを確認するために、最後にBobの量子ビットに逆向きのX軸回転を適用して、QASMシミュレーターで実験し、測定結果が0になることを確認します。"
   ]
  },
  {
   "cell_type": "code",
   "execution_count": null,
   "metadata": {},
   "outputs": [],
   "source": [
    "# 3量子ビット回路を用意\n",
    "qc = QuantumCircuit(3,3)  \n",
    "\n",
    "# Aliceのもつ未知の量子状態ψをRxで作ります。角度はπ/3にしました。\n",
    "qc.rx(np.pi/3,0)\n",
    "qc.barrier()    #回路を見やすくするために入れます\n",
    "\n",
    "# 量子もつれを作ります\n",
    "qc.h(1)\n",
    "qc.cx(1, 2)\n",
    "qc.barrier()\n",
    "\n",
    "# AliceがCNOTとHで自分の量子ビット2つをエンタングルさせ測定します。\n",
    "qc.cx(0, 1)\n",
    "qc.h(0)\n",
    "qc.barrier()\n",
    "qc.measure(0, 0)\n",
    "qc.measure(1, 1)\n",
    "\n",
    "#Aliceが測定結果をBobに送り、Bobが結果に合わせて操作します\n",
    "with qc.if_test((0, 1)): # 古典レジスター0の値が1だったらZゲートをq2にかける\n",
    "    qc.z(2)\n",
    "with qc.if_test((1, 1)): # 古典レジスター1の値が1だったらXゲートをq2にかける\n",
    "    qc.x(2)\n",
    "\n",
    "# 未知の量子状態ψの逆ゲートをかけて０が測定できるか確かめます\n",
    "qc.rx(-np.pi/3, 2)    \n",
    "qc.measure(2, 2)\n",
    "\n",
    "qc.draw(output=\"mpl\")"
   ]
  },
  {
   "cell_type": "code",
   "execution_count": null,
   "metadata": {},
   "outputs": [],
   "source": [
    "# QASMシミュレーターで実験\n",
    "backend = Aer.get_backend('qasm_simulator')\n",
    "job_sim = backend.run(qc)\n",
    "result_sim = job_sim.result()\n",
    "\n",
    "#  測定された回数を表示\n",
    "counts = result_sim.get_counts()\n",
    "print(counts)\n",
    "\n",
    "# ヒストグラムで測定された確率をプロット\n",
    "plot_histogram(counts)"
   ]
  },
  {
   "cell_type": "markdown",
   "metadata": {},
   "source": [
    "qiskitのビット配列は右端が0なので、Bobのビット(qubit 2)は左端です。左端のビットが全て0になっていることが確認できましたか？"
   ]
  },
  {
   "cell_type": "markdown",
   "metadata": {},
   "source": [
    "## 実デバイスでの実行\n",
    "\n",
    "実デバイスで上記の実験を行ってみましょう。（量子計算の途中の測定結果を使ってさらに計算を続ける「動的回路」は、昨年末に実装されたばかりの新機能です！）"
   ]
  },
  {
   "cell_type": "code",
   "execution_count": null,
   "metadata": {},
   "outputs": [],
   "source": [
    "# アカウント情報をロードして、使える量子デバイスを確認します\n",
    "from qiskit_ibm_provider import IBMProvider\n",
    "\n",
    "# provider = IBMProvider(instance='ibm-q/open/main')  # Openプロバイダーの場合\n",
    "provider = IBMProvider(instance='ibm-q-education/ibm-3/kawasaki-camp')\n",
    "provider.backends()"
   ]
  },
  {
   "cell_type": "code",
   "execution_count": null,
   "metadata": {},
   "outputs": [],
   "source": [
    "#一番空いているバックエンドを自動的に選択します\n",
    "from qiskit_ibm_provider import least_busy\n",
    "\n",
    "small_devices = provider.backends(simulator=False, operational=True, dynamic_circuits=True, min_num_qubits=3)\n",
    "real_backend = least_busy(small_devices)\n",
    "print(\"最も空いているバックエンドは: \", real_backend.name)"
   ]
  },
  {
   "cell_type": "code",
   "execution_count": null,
   "metadata": {},
   "outputs": [],
   "source": [
    "# 以下でバックエンドを直接設定することもできます\n",
    "real_backend = provider.get_backend('ibm_lagos')"
   ]
  },
  {
   "cell_type": "code",
   "execution_count": null,
   "metadata": {},
   "outputs": [],
   "source": [
    "# 実機のバックエンドでの実行に最適な回路に変換します\n",
    "qc_compiled = transpile(qc, real_backend)\n",
    "# 動的回路「dynamic=True」を入れて実行します\n",
    "job = real_backend.run(qc_compiled, shots=1024, dynamic=True)\n",
    "\n",
    "job_id = job.job_id() # 実行に時間がかかるのでjob_idを表示します\n",
    "print(job_id)"
   ]
  },
  {
   "cell_type": "code",
   "execution_count": null,
   "metadata": {},
   "outputs": [],
   "source": [
    "job_default = provider.backend.retrieve_job('cjbjesslik6102r6cpg0') # job_idの例です\n",
    "job_default.status() # ジョブの実行状態を確認します"
   ]
  },
  {
   "cell_type": "markdown",
   "metadata": {},
   "source": [
    "`job has successfully run` となったら、以下で結果を確認します。"
   ]
  },
  {
   "cell_type": "code",
   "execution_count": null,
   "metadata": {},
   "outputs": [],
   "source": [
    "# 結果を確認します\n",
    "exp_result = job_default.result()\n",
    "exp_counts = exp_result.get_counts()\n",
    "print(exp_counts)\n",
    "plot_histogram(exp_counts)"
   ]
  },
  {
   "cell_type": "markdown",
   "metadata": {},
   "source": [
    "Qiskitのビット配列は右端が0なので、Bobのビット(qubit 2)は左端です。Bobのビットの結果のみ抜き出します。"
   ]
  },
  {
   "cell_type": "code",
   "execution_count": null,
   "metadata": {},
   "outputs": [],
   "source": [
    "from qiskit.result import marginal_counts\n",
    "bobs_qubit = 2\n",
    "bobs_counts = marginal_counts(exp_counts, [bobs_qubit])\n",
    "plot_histogram(bobs_counts)"
   ]
  },
  {
   "cell_type": "markdown",
   "metadata": {},
   "source": [
    "## 演習\n",
    "\n",
    "量子テレポーテーション回路を自分で組んで表示してみましょう。<br>\n",
    "今回は、未知の量子状態をY軸回転ゲート(`ry`を使います。角度は自由に決めます。)で作ってみましょう。<br>\n",
    "Bobに未知の量子状態が転送されたことを確認するために、最後にBobの量子ビットに逆向きのY軸回転(角度にマイナスをつけます)を適用して、QASMシミュレーターで実験し、測定結果が0になることを確認しましょう。\n",
    "\n",
    "時間に余裕がある方は、実デバイスでも上記の実験を行ってみましょう。"
   ]
  },
  {
   "cell_type": "code",
   "execution_count": null,
   "metadata": {},
   "outputs": [],
   "source": [
    "# 3量子ビット回路を用意\n",
    "qc = QuantumCircuit(3,3)    \n",
    "\n",
    "##量子テレポーテーションのコードを作ってください##\n",
    "# Aliceのもつ未知の量子状態ψをRyで作ります。\n",
    "\n",
    "\n",
    "# 量子もつれを作ります\n",
    "\n",
    "\n",
    "# AliceがCNOTとHでψと自分のEPRペアをエンタングルさせ測定します。\n",
    "\n",
    "\n",
    "#Aliceが測定結果をBobに送り、Bobが結果に合わせて操作します\n",
    "\n",
    "\n",
    "# 未知の量子状態ψの逆向きの演算をかけて０が測定できるか確かめます\n",
    "\n",
    "\n",
    "# 回路を描画\n",
    "qc.draw(output=\"mpl\")"
   ]
  },
  {
   "cell_type": "code",
   "execution_count": null,
   "metadata": {},
   "outputs": [],
   "source": [
    "# QASMシミュレーターで実験の際に使うコード例\n",
    "backend = Aer.get_backend('qasm_simulator')\n",
    "job_sim = backend.run(qc)\n",
    "result_sim = job_sim.result()\n",
    "\n",
    "#  測定された回数を表示\n",
    "counts = result_sim.get_counts()\n",
    "print(counts)\n",
    "\n",
    "# ヒストグラムで測定された確率をプロット\n",
    "plot_histogram(counts)"
   ]
  },
  {
   "cell_type": "code",
   "execution_count": null,
   "metadata": {},
   "outputs": [],
   "source": []
  },
  {
   "cell_type": "code",
   "execution_count": null,
   "metadata": {},
   "outputs": [],
   "source": [
    "import qiskit.tools.jupyter\n",
    "%qiskit_version_table"
   ]
  },
  {
   "cell_type": "code",
   "execution_count": null,
   "metadata": {},
   "outputs": [],
   "source": []
  }
 ],
 "metadata": {
  "kernelspec": {
   "display_name": "Python 3",
   "language": "python",
   "name": "python3"
  },
  "language_info": {
   "codemirror_mode": {
    "name": "ipython",
    "version": 3
   },
   "file_extension": ".py",
   "mimetype": "text/x-python",
   "name": "python",
   "nbconvert_exporter": "python",
   "pygments_lexer": "ipython3",
   "version": "3.8.5"
  }
 },
 "nbformat": 4,
 "nbformat_minor": 4
}
